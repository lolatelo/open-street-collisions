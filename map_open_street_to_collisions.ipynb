{
  "nbformat": 4,
  "nbformat_minor": 0,
  "metadata": {
    "colab": {
      "provenance": [],
      "authorship_tag": "ABX9TyM9b/3T7EMLXGCEZqpeC1Zz",
      "include_colab_link": true
    },
    "kernelspec": {
      "name": "python3",
      "display_name": "Python 3"
    },
    "language_info": {
      "name": "python"
    }
  },
  "cells": [
    {
      "cell_type": "markdown",
      "metadata": {
        "id": "view-in-github",
        "colab_type": "text"
      },
      "source": [
        "<a href=\"https://colab.research.google.com/github/lolatelo/open-street-collisions/blob/main/map_open_street_to_collisions.ipynb\" target=\"_parent\"><img src=\"https://colab.research.google.com/assets/colab-badge.svg\" alt=\"Open In Colab\"/></a>"
      ]
    },
    {
      "cell_type": "code",
      "execution_count": 1,
      "metadata": {
        "id": "kwFxne-xwZ4M"
      },
      "outputs": [],
      "source": [
        "import requests\n",
        "import pandas as pd\n",
        "from pandas_gbq import to_gbq\n",
        "import json\n",
        "from geopy.geocoders import Nominatim\n",
        "from geopy.extra.rate_limiter import RateLimiter\n",
        "import geopandas as gpd\n",
        "from shapely.geometry import Point, LineString\n",
        "import matplotlib.pyplot as plt"
      ]
    },
    {
      "cell_type": "markdown",
      "source": [
        "# Pull data from Bigquery"
      ],
      "metadata": {
        "id": "9hBAJUAl2t2n"
      }
    },
    {
      "cell_type": "code",
      "source": [
        "from google.colab import files\n",
        "uploaded = files.upload()"
      ],
      "metadata": {
        "colab": {
          "base_uri": "https://localhost:8080/",
          "height": 73
        },
        "id": "o6pvLxgJxzfO",
        "outputId": "2a00acee-2cf1-41a6-b7e8-e696fe04349f"
      },
      "execution_count": 3,
      "outputs": [
        {
          "output_type": "display_data",
          "data": {
            "text/plain": [
              "<IPython.core.display.HTML object>"
            ],
            "text/html": [
              "\n",
              "     <input type=\"file\" id=\"files-89d1b5cc-4ff2-49eb-be7a-5202ae69d6a6\" name=\"files[]\" multiple disabled\n",
              "        style=\"border:none\" />\n",
              "     <output id=\"result-89d1b5cc-4ff2-49eb-be7a-5202ae69d6a6\">\n",
              "      Upload widget is only available when the cell has been executed in the\n",
              "      current browser session. Please rerun this cell to enable.\n",
              "      </output>\n",
              "      <script>// Copyright 2017 Google LLC\n",
              "//\n",
              "// Licensed under the Apache License, Version 2.0 (the \"License\");\n",
              "// you may not use this file except in compliance with the License.\n",
              "// You may obtain a copy of the License at\n",
              "//\n",
              "//      http://www.apache.org/licenses/LICENSE-2.0\n",
              "//\n",
              "// Unless required by applicable law or agreed to in writing, software\n",
              "// distributed under the License is distributed on an \"AS IS\" BASIS,\n",
              "// WITHOUT WARRANTIES OR CONDITIONS OF ANY KIND, either express or implied.\n",
              "// See the License for the specific language governing permissions and\n",
              "// limitations under the License.\n",
              "\n",
              "/**\n",
              " * @fileoverview Helpers for google.colab Python module.\n",
              " */\n",
              "(function(scope) {\n",
              "function span(text, styleAttributes = {}) {\n",
              "  const element = document.createElement('span');\n",
              "  element.textContent = text;\n",
              "  for (const key of Object.keys(styleAttributes)) {\n",
              "    element.style[key] = styleAttributes[key];\n",
              "  }\n",
              "  return element;\n",
              "}\n",
              "\n",
              "// Max number of bytes which will be uploaded at a time.\n",
              "const MAX_PAYLOAD_SIZE = 100 * 1024;\n",
              "\n",
              "function _uploadFiles(inputId, outputId) {\n",
              "  const steps = uploadFilesStep(inputId, outputId);\n",
              "  const outputElement = document.getElementById(outputId);\n",
              "  // Cache steps on the outputElement to make it available for the next call\n",
              "  // to uploadFilesContinue from Python.\n",
              "  outputElement.steps = steps;\n",
              "\n",
              "  return _uploadFilesContinue(outputId);\n",
              "}\n",
              "\n",
              "// This is roughly an async generator (not supported in the browser yet),\n",
              "// where there are multiple asynchronous steps and the Python side is going\n",
              "// to poll for completion of each step.\n",
              "// This uses a Promise to block the python side on completion of each step,\n",
              "// then passes the result of the previous step as the input to the next step.\n",
              "function _uploadFilesContinue(outputId) {\n",
              "  const outputElement = document.getElementById(outputId);\n",
              "  const steps = outputElement.steps;\n",
              "\n",
              "  const next = steps.next(outputElement.lastPromiseValue);\n",
              "  return Promise.resolve(next.value.promise).then((value) => {\n",
              "    // Cache the last promise value to make it available to the next\n",
              "    // step of the generator.\n",
              "    outputElement.lastPromiseValue = value;\n",
              "    return next.value.response;\n",
              "  });\n",
              "}\n",
              "\n",
              "/**\n",
              " * Generator function which is called between each async step of the upload\n",
              " * process.\n",
              " * @param {string} inputId Element ID of the input file picker element.\n",
              " * @param {string} outputId Element ID of the output display.\n",
              " * @return {!Iterable<!Object>} Iterable of next steps.\n",
              " */\n",
              "function* uploadFilesStep(inputId, outputId) {\n",
              "  const inputElement = document.getElementById(inputId);\n",
              "  inputElement.disabled = false;\n",
              "\n",
              "  const outputElement = document.getElementById(outputId);\n",
              "  outputElement.innerHTML = '';\n",
              "\n",
              "  const pickedPromise = new Promise((resolve) => {\n",
              "    inputElement.addEventListener('change', (e) => {\n",
              "      resolve(e.target.files);\n",
              "    });\n",
              "  });\n",
              "\n",
              "  const cancel = document.createElement('button');\n",
              "  inputElement.parentElement.appendChild(cancel);\n",
              "  cancel.textContent = 'Cancel upload';\n",
              "  const cancelPromise = new Promise((resolve) => {\n",
              "    cancel.onclick = () => {\n",
              "      resolve(null);\n",
              "    };\n",
              "  });\n",
              "\n",
              "  // Wait for the user to pick the files.\n",
              "  const files = yield {\n",
              "    promise: Promise.race([pickedPromise, cancelPromise]),\n",
              "    response: {\n",
              "      action: 'starting',\n",
              "    }\n",
              "  };\n",
              "\n",
              "  cancel.remove();\n",
              "\n",
              "  // Disable the input element since further picks are not allowed.\n",
              "  inputElement.disabled = true;\n",
              "\n",
              "  if (!files) {\n",
              "    return {\n",
              "      response: {\n",
              "        action: 'complete',\n",
              "      }\n",
              "    };\n",
              "  }\n",
              "\n",
              "  for (const file of files) {\n",
              "    const li = document.createElement('li');\n",
              "    li.append(span(file.name, {fontWeight: 'bold'}));\n",
              "    li.append(span(\n",
              "        `(${file.type || 'n/a'}) - ${file.size} bytes, ` +\n",
              "        `last modified: ${\n",
              "            file.lastModifiedDate ? file.lastModifiedDate.toLocaleDateString() :\n",
              "                                    'n/a'} - `));\n",
              "    const percent = span('0% done');\n",
              "    li.appendChild(percent);\n",
              "\n",
              "    outputElement.appendChild(li);\n",
              "\n",
              "    const fileDataPromise = new Promise((resolve) => {\n",
              "      const reader = new FileReader();\n",
              "      reader.onload = (e) => {\n",
              "        resolve(e.target.result);\n",
              "      };\n",
              "      reader.readAsArrayBuffer(file);\n",
              "    });\n",
              "    // Wait for the data to be ready.\n",
              "    let fileData = yield {\n",
              "      promise: fileDataPromise,\n",
              "      response: {\n",
              "        action: 'continue',\n",
              "      }\n",
              "    };\n",
              "\n",
              "    // Use a chunked sending to avoid message size limits. See b/62115660.\n",
              "    let position = 0;\n",
              "    do {\n",
              "      const length = Math.min(fileData.byteLength - position, MAX_PAYLOAD_SIZE);\n",
              "      const chunk = new Uint8Array(fileData, position, length);\n",
              "      position += length;\n",
              "\n",
              "      const base64 = btoa(String.fromCharCode.apply(null, chunk));\n",
              "      yield {\n",
              "        response: {\n",
              "          action: 'append',\n",
              "          file: file.name,\n",
              "          data: base64,\n",
              "        },\n",
              "      };\n",
              "\n",
              "      let percentDone = fileData.byteLength === 0 ?\n",
              "          100 :\n",
              "          Math.round((position / fileData.byteLength) * 100);\n",
              "      percent.textContent = `${percentDone}% done`;\n",
              "\n",
              "    } while (position < fileData.byteLength);\n",
              "  }\n",
              "\n",
              "  // All done.\n",
              "  yield {\n",
              "    response: {\n",
              "      action: 'complete',\n",
              "    }\n",
              "  };\n",
              "}\n",
              "\n",
              "scope.google = scope.google || {};\n",
              "scope.google.colab = scope.google.colab || {};\n",
              "scope.google.colab._files = {\n",
              "  _uploadFiles,\n",
              "  _uploadFilesContinue,\n",
              "};\n",
              "})(self);\n",
              "</script> "
            ]
          },
          "metadata": {}
        },
        {
          "output_type": "stream",
          "name": "stdout",
          "text": [
            "Saving open-data-2024-78df73c35291.json to open-data-2024-78df73c35291 (1).json\n"
          ]
        }
      ]
    },
    {
      "cell_type": "code",
      "source": [
        "import os\n",
        "os.environ[\"GOOGLE_APPLICATION_CREDENTIALS\"] = \"/content/open-data-2024-78df73c35291.json\"\n"
      ],
      "metadata": {
        "id": "unH3nH6dx8-I"
      },
      "execution_count": 4,
      "outputs": []
    },
    {
      "cell_type": "code",
      "source": [
        "from google.cloud import bigquery\n",
        "\n",
        "# Construct a BigQuery client object.\n",
        "client = bigquery.Client()"
      ],
      "metadata": {
        "id": "ENVyyEERyEwv"
      },
      "execution_count": 5,
      "outputs": []
    },
    {
      "cell_type": "code",
      "source": [
        "# Query to pull data from BigQuery\n",
        "query = \"\"\"\n",
        "SELECT * FROM\n",
        "`open-data-2024.nyc_motor_vechicle_crashes.collisions_with_coordinates`\n",
        "where\n",
        "(safe_cast(latitude as BIGNUMERIC)  > 40.477399 and  safe_cast(latitude as BIGNUMERIC) < 40.917577)\n",
        " and\n",
        " (safe_cast(longitude as BIGNUMERIC)  > -74.25909 and  safe_cast(longitude as BIGNUMERIC) < -73.700009)\n",
        "\"\"\"\n",
        "query_job = client.query(query)\n",
        "\n",
        "# Store the data in a pandas DataFrame\n",
        "collisions = query_job.to_dataframe()"
      ],
      "metadata": {
        "id": "IUBt-CNXwcWe"
      },
      "execution_count": 6,
      "outputs": []
    },
    {
      "cell_type": "code",
      "source": [
        "# Query to pull data from BigQuery\n",
        "query = \"\"\"\n",
        "SELECT * FROM\n",
        "`open-data-2024.nyc_motor_vechicle_crashes.open_streets`\n",
        "\"\"\"\n",
        "query_job = client.query(query)\n",
        "\n",
        "# Store the data in a pandas DataFrame\n",
        "open_streets = query_job.to_dataframe()"
      ],
      "metadata": {
        "id": "xPa2orP1ye8g"
      },
      "execution_count": 7,
      "outputs": []
    },
    {
      "cell_type": "markdown",
      "source": [
        "# Map collisions to open_streets"
      ],
      "metadata": {
        "id": "vC_mCa8n20-5"
      }
    },
    {
      "cell_type": "code",
      "source": [
        "# For collisions\n",
        "\n",
        "collisions['geometry'] = collisions.apply(lambda row: Point(row['longitude'], row['latitude']), axis=1)\n",
        "gdf_collisions = gpd.GeoDataFrame(collisions, geometry='geometry')"
      ],
      "metadata": {
        "id": "SaJXIQ8B10s8"
      },
      "execution_count": 8,
      "outputs": []
    },
    {
      "cell_type": "code",
      "source": [
        "# For open streets\n",
        "open_streets['geometry'] = open_streets.apply(lambda row: LineString([(row['longitude1'], row['latitude1']), (row['longitude2'], row['latitude2'])]), axis=1)\n",
        "gdf_open_streets = gpd.GeoDataFrame(open_streets, geometry='geometry')\n",
        "# Set CRS to WGS 84 (if your data is in latitude and longitude)\n",
        "gdf_collisions.crs = \"EPSG:4326\"\n",
        "gdf_open_streets.crs = \"EPSG:4326\"\n",
        "print(gdf_collisions.crs)\n",
        "print(gdf_open_streets.crs)"
      ],
      "metadata": {
        "id": "hZkdGrgp2cuL"
      },
      "execution_count": 9,
      "outputs": []
    },
    {
      "cell_type": "code",
      "source": [
        "# Assuming `gdf_collisions` is your GeoDataFrame and contains a 'borough' field\n",
        "# # Convert 'latitude' and 'longitude' to floats\n",
        "# collisions_filtered = collisions.copy()\n",
        "# collisions_filtered['latitude'] = collisions_filtered['latitude'].astype(float)\n",
        "# collisions_filtered['longitude'] = collisions_filtered['longitude'].astype(float)\n",
        "\n",
        "# # Further filter out collisions with latitudes and longitudes outside NYC limits\n",
        "# collisions_filtered = collisions_filtered[\n",
        "#     (collisions_filtered['latitude'] > 40.477399) & (collisions_filtered['latitude'] < 40.917577) &\n",
        "#     (collisions_filtered['longitude'] > -74.25909) & (collisions_filtered['longitude'] < -73.700009)\n",
        "# ]\n",
        "\n",
        "# # Convert the filtered DataFrame to a GeoDataFrame\n",
        "# collisions_filtered['geometry'] = gpd.points_from_xy(collisions_filtered['longitude'], collisions_filtered['latitude'])\n",
        "# gdf_collisions_filtered = gpd.GeoDataFrame(collisions_filtered, geometry='geometry')"
      ],
      "metadata": {
        "id": "uAnzIOdI3TXj"
      },
      "execution_count": null,
      "outputs": []
    },
    {
      "cell_type": "code",
      "source": [
        "# Create a buffer around open streets. Adjust the buffer size as needed.\n",
        "gdf_open_streets_buffered = gdf_open_streets.copy()\n",
        "gdf_open_streets_buffered['geometry'] = gdf_open_streets.geometry.buffer(0.0001)  # Example buffer size; adjust based on your needs\n",
        "\n",
        "# Then perform the spatial join with the buffered GeoDataFrame\n",
        "collisions_with_open_streets = gpd.sjoin(gdf_collisions, gdf_open_streets_buffered, how='left', op='intersects')\n"
      ],
      "metadata": {
        "colab": {
          "base_uri": "https://localhost:8080/"
        },
        "id": "qZUs5zbq8vTe",
        "outputId": "e1e35f39-34b0-4e42-df08-b545e995e5f8"
      },
      "execution_count": 11,
      "outputs": [
        {
          "output_type": "stream",
          "name": "stderr",
          "text": [
            "<ipython-input-11-6273ddbaeb20>:3: UserWarning: Geometry is in a geographic CRS. Results from 'buffer' are likely incorrect. Use 'GeoSeries.to_crs()' to re-project geometries to a projected CRS before this operation.\n",
            "\n",
            "  gdf_open_streets_buffered['geometry'] = gdf_open_streets.geometry.buffer(0.0001)  # Example buffer size; adjust based on your needs\n",
            "/usr/local/lib/python3.10/dist-packages/IPython/core/interactiveshell.py:3473: FutureWarning: The `op` parameter is deprecated and will be removed in a future release. Please use the `predicate` parameter instead.\n",
            "  if (await self.run_code(code, result,  async_=asy)):\n"
          ]
        }
      ]
    },
    {
      "cell_type": "code",
      "source": [
        "collisions_with_open_streets.appronstre.value_counts()"
      ],
      "metadata": {
        "colab": {
          "base_uri": "https://localhost:8080/"
        },
        "id": "t_qtlNXa8-IC",
        "outputId": "694bda47-ecc8-4c9a-d6a0-e5f09c68e703"
      },
      "execution_count": 12,
      "outputs": [
        {
          "output_type": "execute_result",
          "data": {
            "text/plain": [
              "5 AVENUE           5600\n",
              "3 AVENUE           2511\n",
              "34 AVENUE          2229\n",
              "COLUMBUS AVENUE    2164\n",
              "BERRY STREET       1303\n",
              "                   ... \n",
              "DEISIUS STREET        4\n",
              "MURDOCK AVENUE        3\n",
              "VERMONT COURT         2\n",
              "EAST 161 STREET       1\n",
              "NASSAU STREET         1\n",
              "Name: appronstre, Length: 168, dtype: int64"
            ]
          },
          "metadata": {},
          "execution_count": 12
        }
      ]
    },
    {
      "cell_type": "code",
      "source": [
        "collisions_with_open_streets['is_open_street'] = collisions_with_open_streets['index_right'].notnull()"
      ],
      "metadata": {
        "id": "zOUwNz2I8xdf"
      },
      "execution_count": 13,
      "outputs": []
    },
    {
      "cell_type": "code",
      "source": [
        "fig, ax = plt.subplots(figsize=(10, 10))\n",
        "gdf_open_streets.plot(ax=ax, color='blue', linewidth=1, label='Open Streets')\n",
        "#gdf_collisions.plot(ax=ax, color='red', markersize=1, label='Collisions')\n",
        "plt.legend()\n",
        "plt.show()\n"
      ],
      "metadata": {
        "colab": {
          "base_uri": "https://localhost:8080/",
          "height": 824
        },
        "id": "YJJQNXV_Bgsk",
        "outputId": "ae9bf231-c7f5-4bee-e28b-133bb2340aa7"
      },
      "execution_count": 17,
      "outputs": [
        {
          "output_type": "display_data",
          "data": {
            "text/plain": [
              "<Figure size 1000x1000 with 1 Axes>"
            ],
            "image/png": "[encoded data removed]"
          },
          "metadata": {}
        }
      ]
    },
    {
      "cell_type": "code",
      "source": [
        "open_streets.query(\"appronstre == '31 AVENUE'\")\n",
        "\n",
        "# apprdayswe = approved days of the week\n",
        "#apprstartd = date that the open street started\n",
        "#apprenddat = date that the open street ended\n",
        "#apprsatope - hours; apprsatclo; apprsunope; apprsunclo"
      ],
      "metadata": {
        "id": "UaIh7srrEuxf"
      },
      "execution_count": null,
      "outputs": []
    },
    {
      "cell_type": "code",
      "source": [
        "collisions_with_open_streets.columns"
      ],
      "metadata": {
        "colab": {
          "base_uri": "https://localhost:8080/"
        },
        "id": "Id2yzF89Evbz",
        "outputId": "630083d7-d993-46c0-e18b-3ad90c3a4f3e"
      },
      "execution_count": 23,
      "outputs": [
        {
          "output_type": "execute_result",
          "data": {
            "text/plain": [
              "Index(['crash_date', 'crash_time', 'on_street_name', 'off_street_name',\n",
              "       'number_of_persons_injured', 'number_of_persons_killed',\n",
              "       'number_of_pedestrians_injured', 'number_of_pedestrians_killed',\n",
              "       'number_of_cyclist_injured', 'number_of_cyclist_killed',\n",
              "       'number_of_motorist_injured', 'number_of_motorist_killed',\n",
              "       'contributing_factor_vehicle_1', 'contributing_factor_vehicle_2',\n",
              "       'collision_id', 'vehicle_type_code1', 'vehicle_type_code2', 'borough',\n",
              "       'zip_code', 'latitude', 'longitude', 'cross_street_name',\n",
              "       'contributing_factor_vehicle_3', 'vehicle_type_code_3',\n",
              "       'contributing_factor_vehicle_4', 'vehicle_type_code_4',\n",
              "       'contributing_factor_vehicle_5', 'vehicle_type_code_5', 'geometry',\n",
              "       'index_right', 'object_id', 'orgname', 'appronstre', 'boroughname',\n",
              "       'apprfromst', 'apprtostre', 'apprdayswe', 'reviewstat', 'apprmonope',\n",
              "       'apprmonclo', 'apprtueope', 'apprtueclo', 'apprwedope', 'apprwedclo',\n",
              "       'apprthuope', 'apprthuclo', 'apprfriope', 'apprfriclo', 'apprstartd',\n",
              "       'apprenddat', 'shape_stle', 'segmentidt', 'segmentidf', 'apprsatope',\n",
              "       'apprsatclo', 'apprsunope', 'apprsunclo', 'latitude1', 'longitude1',\n",
              "       'latitude2', 'longitude2', 'is_open_street'],\n",
              "      dtype='object')"
            ]
          },
          "metadata": {},
          "execution_count": 23
        }
      ]
    },
    {
      "cell_type": "markdown",
      "source": [
        "## Did the crash occur when the Open Street was in session?\n",
        "\n",
        "To create a flag indicating whether a collision occurred while the open street was in session, follow these steps. This involves parsing dates and times, comparing them against the collision's timestamp, and taking the operational days and hours into account."
      ],
      "metadata": {
        "id": "_lTXboUOHYDj"
      }
    },
    {
      "cell_type": "code",
      "source": [
        "\"\"\"\n",
        "To create a flag indicating whether a collision occurred while the open street was in session, follow these steps. This involves parsing dates and times,\n",
        "comparing them against the collision's timestamp, and taking the operational days and hours into account.\n",
        "Step 1: Convert Date and Time Columns to DateTime Format\n",
        "First, ensure that crash_date and crash_time are in an appropriate datetime format. Also, convert apprstartd and apprenddat to datetime.\n",
        "\"\"\"\n",
        "collisions_with_open_streets['crash_datetime'] = pd.to_datetime(collisions_with_open_streets['crash_date'] + ' ' + collisions_with_open_streets['crash_time'])\n",
        "\n",
        "collisions_with_open_streets['apprstartd'] = pd.to_datetime(collisions_with_open_streets['apprstartd'])\n",
        "\n"
      ],
      "metadata": {
        "id": "WqEEGvX5Hbsg"
      },
      "execution_count": null,
      "outputs": []
    },
    {
      "cell_type": "code",
      "source": [
        "collisions_with_open_streets['apprenddat'] = pd.to_datetime(collisions_with_open_streets['apprenddat'])"
      ],
      "metadata": {
        "id": "PBHzmCPsI08p"
      },
      "execution_count": 27,
      "outputs": []
    },
    {
      "cell_type": "code",
      "source": [
        "\"\"\"\n",
        "Step 2: Define Function to Check If Crash Occurred During Open Street Session\n",
        "This function will check:\n",
        "\n",
        "If the crash date is within the operating period of the open street.\n",
        "If the crash occurred on a day the open street operates.\n",
        "If the crash time is within the operating hours for that day.\n",
        "\"\"\"\n",
        "\n",
        "def is_crash_during_open_street(row):\n",
        "    # Check if crash date is within the open street operation period\n",
        "    if not (row['apprstartd'] <= row['crash_datetime'].date() <= row['apprenddat']):\n",
        "        return False\n",
        "\n",
        "    # Dictionary to map day names to their corresponding operational time fields\n",
        "    day_to_fields = {\n",
        "        'mon': ('apprmonope', 'apprmonclo'),\n",
        "        'tue': ('apprtueope', 'apprtueclo'),\n",
        "        'wed': ('apprwedope', 'apprwedclo'),\n",
        "        'thu': ('apprthuope', 'apprthuclo'),\n",
        "        'fri': ('apprfriope', 'apprfriclo'),\n",
        "        'sat': ('apprsatope', 'apprsatclo'),\n",
        "        'sun': ('apprsunope', 'apprsunclo'),\n",
        "    }\n",
        "\n",
        "    # Get the day of the week from the crash datetime\n",
        "    crash_day_of_week = row['crash_datetime'].strftime('%a').lower()\n",
        "\n",
        "    # Check if the open street operates on this day of the week\n",
        "    if crash_day_of_week in row['apprdayswe']:\n",
        "        open_time_field, close_time_field = day_to_fields[crash_day_of_week]\n",
        "        open_time_str = row[open_time_field]\n",
        "        close_time_str = row[close_time_field]\n",
        "\n",
        "        # Some rows may not have opening/closing time even if they operate on that day, assuming 24hrs operation\n",
        "        if pd.isnull(open_time_str) or pd.isnull(close_time_str):\n",
        "            return True\n",
        "\n",
        "        # Convert open and close times to datetime.time for comparison\n",
        "        open_time = pd.to_datetime(open_time_str, format='%H:%M').time()\n",
        "        close_time = pd.to_datetime(close_time_str, format='%H:%M').time()\n",
        "\n",
        "        # Check if crash time is within open hours\n",
        "        if open_time <= row['crash_datetime'].time() <= close_time:\n",
        "            return True\n",
        "\n",
        "    return False\n",
        "\n"
      ],
      "metadata": {
        "id": "zmutt8_sHtGE"
      },
      "execution_count": 28,
      "outputs": []
    },
    {
      "cell_type": "code",
      "source": [
        "# Apply the function and create the flag\n",
        "collisions_with_open_streets['crash_during_open_street'] = collisions_with_open_streets.apply(is_crash_during_open_street, axis=1)"
      ],
      "metadata": {
        "colab": {
          "base_uri": "https://localhost:8080/"
        },
        "id": "RYPhmAqpJFwc",
        "outputId": "dc8321d5-124e-4afd-9a0d-91101ea88743"
      },
      "execution_count": 29,
      "outputs": [
        {
          "output_type": "stream",
          "name": "stderr",
          "text": [
            "<ipython-input-28-140d087c1edf>:12: FutureWarning: Comparison of NaT with datetime.date is deprecated in order to match the standard library behavior. In a future version these will be considered non-comparable.\n",
            "  if not (row['apprstartd'] <= row['crash_datetime'].date() <= row['apprenddat']):\n",
            "<ipython-input-28-140d087c1edf>:12: FutureWarning: Comparison of Timestamp with datetime.date is deprecated in order to match the standard library behavior. In a future version these will be considered non-comparable. Use 'ts == pd.Timestamp(date)' or 'ts.date() == date' instead.\n",
            "  if not (row['apprstartd'] <= row['crash_datetime'].date() <= row['apprenddat']):\n"
          ]
        }
      ]
    },
    {
      "cell_type": "code",
      "source": [
        "collisions_with_open_streets.crash_during_open_street.value_counts()"
      ],
      "metadata": {
        "colab": {
          "base_uri": "https://localhost:8080/"
        },
        "id": "QqublKvDJWEf",
        "outputId": "41596876-9032-4834-ced8-a3872106a124"
      },
      "execution_count": 30,
      "outputs": [
        {
          "output_type": "execute_result",
          "data": {
            "text/plain": [
              "False    1837752\n",
              "True         202\n",
              "Name: crash_during_open_street, dtype: int64"
            ]
          },
          "metadata": {},
          "execution_count": 30
        }
      ]
    },
    {
      "cell_type": "markdown",
      "source": [
        "# Analyzing\n",
        "ok, let's start analyzing the data. write code that answers these questions:\n",
        "1. how have motor vehicle crashes changed over time?\n",
        "2. How have motor vehicle crashes changed on open street? During operation? At all hours?\n",
        "3. How does time of day or time of year impact motor vehicle collisions? open streets are typically during the summer."
      ],
      "metadata": {
        "id": "FYaG0_3oCTwc"
      }
    },
    {
      "cell_type": "markdown",
      "source": [
        "## How have motor vehicle crashes changed over time?"
      ],
      "metadata": {
        "id": "eSqv1zkTJxgJ"
      }
    },
    {
      "cell_type": "code",
      "source": [
        "yearly_crashes = collisions_with_open_streets.resample('Y', on='crash_date').size()"
      ],
      "metadata": {
        "colab": {
          "base_uri": "https://localhost:8080/",
          "height": 287
        },
        "id": "h5Xd3T2dJ4Oe",
        "outputId": "11cccfb4-ea1e-41b8-ca3d-227df33d7993"
      },
      "execution_count": 31,
      "outputs": [
        {
          "output_type": "error",
          "ename": "TypeError",
          "evalue": "Only valid with DatetimeIndex, TimedeltaIndex or PeriodIndex, but got an instance of 'Index'",
          "traceback": [
            "\u001b[0;31m---------------------------------------------------------------------------\u001b[0m",
            "\u001b[0;31mTypeError\u001b[0m                                 Traceback (most recent call last)",
            "\u001b[0;32m<ipython-input-31-5a7f534f47da>\u001b[0m in \u001b[0;36m<cell line: 1>\u001b[0;34m()\u001b[0m\n\u001b[0;32m----> 1\u001b[0;31m \u001b[0myearly_crashes\u001b[0m \u001b[0;34m=\u001b[0m \u001b[0mcollisions_with_open_streets\u001b[0m\u001b[0;34m.\u001b[0m\u001b[0mresample\u001b[0m\u001b[0;34m(\u001b[0m\u001b[0;34m'Y'\u001b[0m\u001b[0;34m,\u001b[0m \u001b[0mon\u001b[0m\u001b[0;34m=\u001b[0m\u001b[0;34m'crash_date'\u001b[0m\u001b[0;34m)\u001b[0m\u001b[0;34m.\u001b[0m\u001b[0msize\u001b[0m\u001b[0;34m(\u001b[0m\u001b[0;34m)\u001b[0m\u001b[0;34m\u001b[0m\u001b[0;34m\u001b[0m\u001b[0m\n\u001b[0m",
            "\u001b[0;32m/usr/local/lib/python3.10/dist-packages/pandas/core/frame.py\u001b[0m in \u001b[0;36mresample\u001b[0;34m(self, rule, axis, closed, label, convention, kind, loffset, base, on, level, origin, offset, group_keys)\u001b[0m\n\u001b[1;32m  11390\u001b[0m         \u001b[0mgroup_keys\u001b[0m\u001b[0;34m:\u001b[0m \u001b[0mbool\u001b[0m \u001b[0;34m|\u001b[0m \u001b[0mlib\u001b[0m\u001b[0;34m.\u001b[0m\u001b[0mNoDefault\u001b[0m \u001b[0;34m=\u001b[0m \u001b[0mno_default\u001b[0m\u001b[0;34m,\u001b[0m\u001b[0;34m\u001b[0m\u001b[0;34m\u001b[0m\u001b[0m\n\u001b[1;32m  11391\u001b[0m     ) -> Resampler:\n\u001b[0;32m> 11392\u001b[0;31m         return super().resample(\n\u001b[0m\u001b[1;32m  11393\u001b[0m             \u001b[0mrule\u001b[0m\u001b[0;34m=\u001b[0m\u001b[0mrule\u001b[0m\u001b[0;34m,\u001b[0m\u001b[0;34m\u001b[0m\u001b[0;34m\u001b[0m\u001b[0m\n\u001b[1;32m  11394\u001b[0m             \u001b[0maxis\u001b[0m\u001b[0;34m=\u001b[0m\u001b[0maxis\u001b[0m\u001b[0;34m,\u001b[0m\u001b[0;34m\u001b[0m\u001b[0;34m\u001b[0m\u001b[0m\n",
            "\u001b[0;32m/usr/local/lib/python3.10/dist-packages/pandas/core/generic.py\u001b[0m in \u001b[0;36mresample\u001b[0;34m(self, rule, axis, closed, label, convention, kind, loffset, base, on, level, origin, offset, group_keys)\u001b[0m\n\u001b[1;32m   8856\u001b[0m \u001b[0;34m\u001b[0m\u001b[0m\n\u001b[1;32m   8857\u001b[0m         \u001b[0maxis\u001b[0m \u001b[0;34m=\u001b[0m \u001b[0mself\u001b[0m\u001b[0;34m.\u001b[0m\u001b[0m_get_axis_number\u001b[0m\u001b[0;34m(\u001b[0m\u001b[0maxis\u001b[0m\u001b[0;34m)\u001b[0m\u001b[0;34m\u001b[0m\u001b[0;34m\u001b[0m\u001b[0m\n\u001b[0;32m-> 8858\u001b[0;31m         return get_resampler(\n\u001b[0m\u001b[1;32m   8859\u001b[0m             \u001b[0mself\u001b[0m\u001b[0;34m,\u001b[0m\u001b[0;34m\u001b[0m\u001b[0;34m\u001b[0m\u001b[0m\n\u001b[1;32m   8860\u001b[0m             \u001b[0mfreq\u001b[0m\u001b[0;34m=\u001b[0m\u001b[0mrule\u001b[0m\u001b[0;34m,\u001b[0m\u001b[0;34m\u001b[0m\u001b[0;34m\u001b[0m\u001b[0m\n",
            "\u001b[0;32m/usr/local/lib/python3.10/dist-packages/pandas/core/resample.py\u001b[0m in \u001b[0;36mget_resampler\u001b[0;34m(obj, kind, **kwds)\u001b[0m\n\u001b[1;32m   1542\u001b[0m     \"\"\"\n\u001b[1;32m   1543\u001b[0m     \u001b[0mtg\u001b[0m \u001b[0;34m=\u001b[0m \u001b[0mTimeGrouper\u001b[0m\u001b[0;34m(\u001b[0m\u001b[0;34m**\u001b[0m\u001b[0mkwds\u001b[0m\u001b[0;34m)\u001b[0m\u001b[0;34m\u001b[0m\u001b[0;34m\u001b[0m\u001b[0m\n\u001b[0;32m-> 1544\u001b[0;31m     \u001b[0;32mreturn\u001b[0m \u001b[0mtg\u001b[0m\u001b[0;34m.\u001b[0m\u001b[0m_get_resampler\u001b[0m\u001b[0;34m(\u001b[0m\u001b[0mobj\u001b[0m\u001b[0;34m,\u001b[0m \u001b[0mkind\u001b[0m\u001b[0;34m=\u001b[0m\u001b[0mkind\u001b[0m\u001b[0;34m)\u001b[0m\u001b[0;34m\u001b[0m\u001b[0;34m\u001b[0m\u001b[0m\n\u001b[0m\u001b[1;32m   1545\u001b[0m \u001b[0;34m\u001b[0m\u001b[0m\n\u001b[1;32m   1546\u001b[0m \u001b[0;34m\u001b[0m\u001b[0m\n",
            "\u001b[0;32m/usr/local/lib/python3.10/dist-packages/pandas/core/resample.py\u001b[0m in \u001b[0;36m_get_resampler\u001b[0;34m(self, obj, kind)\u001b[0m\n\u001b[1;32m   1723\u001b[0m             )\n\u001b[1;32m   1724\u001b[0m \u001b[0;34m\u001b[0m\u001b[0m\n\u001b[0;32m-> 1725\u001b[0;31m         raise TypeError(\n\u001b[0m\u001b[1;32m   1726\u001b[0m             \u001b[0;34m\"Only valid with DatetimeIndex, \"\u001b[0m\u001b[0;34m\u001b[0m\u001b[0;34m\u001b[0m\u001b[0m\n\u001b[1;32m   1727\u001b[0m             \u001b[0;34m\"TimedeltaIndex or PeriodIndex, \"\u001b[0m\u001b[0;34m\u001b[0m\u001b[0;34m\u001b[0m\u001b[0m\n",
            "\u001b[0;31mTypeError\u001b[0m: Only valid with DatetimeIndex, TimedeltaIndex or PeriodIndex, but got an instance of 'Index'"
          ]
        }
      ]
    },
    {
      "cell_type": "code",
      "source": [],
      "metadata": {
        "id": "5-esgHmHJ71m"
      },
      "execution_count": null,
      "outputs": []
    },
    {
      "cell_type": "markdown",
      "source": [
        "# Save to BigQuery"
      ],
      "metadata": {
        "id": "YJmsABEXCPou"
      }
    },
    {
      "cell_type": "code",
      "source": [
        "# SAVE OPEN STREET MAPPING TO BIGQUERY\n",
        "collisions_with_open_streets['geometry'] = collisions_with_open_streets['geometry'].apply(lambda x: x.wkt)\n",
        "\n",
        "# Ensure the rest of the DataFrame is in a format compatible with BigQuery\n",
        "# This may involve converting other non-standard columns to string or appropriate formats\n",
        "\n",
        "project_id = 'open-data-2024'\n",
        "dataset_id = 'nyc_motor_vechicle_crashes'\n",
        "table_id = 'collisions_with_open_streets' #UPDATE\n",
        "table_full_name = f\"{dataset_id}.{table_id}\"\n",
        "\n",
        "# Save the DataFrame to BigQuery\n",
        "#UPDATE DF\n",
        "collisions_with_open_streets.to_gbq(destination_table=table_full_name, project_id=project_id, if_exists='replace', progress_bar=True)"
      ],
      "metadata": {
        "colab": {
          "base_uri": "https://localhost:8080/",
          "height": 269
        },
        "id": "rXbucnTO-qDu",
        "outputId": "c59c6b0c-1ec6-48ac-9a21-08337c88a483"
      },
      "execution_count": 32,
      "outputs": [
        {
          "output_type": "stream",
          "name": "stderr",
          "text": [
            "/usr/local/lib/python3.10/dist-packages/geopandas/geodataframe.py:1537: UserWarning: Geometry column does not contain geometry.\n",
            "  warnings.warn(\"Geometry column does not contain geometry.\")\n"
          ]
        },
        {
          "output_type": "error",
          "ename": "ArrowTypeError",
          "evalue": "Expected a string or bytes dtype, got datetime64[ns]",
          "traceback": [
            "\u001b[0;31m---------------------------------------------------------------------------\u001b[0m",
            "\u001b[0;31mArrowTypeError\u001b[0m                            Traceback (most recent call last)",
            "\u001b[0;32m<ipython-input-32-0fd360bdf322>\u001b[0m in \u001b[0;36m<cell line: 14>\u001b[0;34m()\u001b[0m\n\u001b[1;32m     12\u001b[0m \u001b[0;31m# Save the DataFrame to BigQuery\u001b[0m\u001b[0;34m\u001b[0m\u001b[0;34m\u001b[0m\u001b[0m\n\u001b[1;32m     13\u001b[0m \u001b[0;31m#UPDATE DF\u001b[0m\u001b[0;34m\u001b[0m\u001b[0;34m\u001b[0m\u001b[0m\n\u001b[0;32m---> 14\u001b[0;31m \u001b[0mcollisions_with_open_streets\u001b[0m\u001b[0;34m.\u001b[0m\u001b[0mto_gbq\u001b[0m\u001b[0;34m(\u001b[0m\u001b[0mdestination_table\u001b[0m\u001b[0;34m=\u001b[0m\u001b[0mtable_full_name\u001b[0m\u001b[0;34m,\u001b[0m \u001b[0mproject_id\u001b[0m\u001b[0;34m=\u001b[0m\u001b[0mproject_id\u001b[0m\u001b[0;34m,\u001b[0m \u001b[0mif_exists\u001b[0m\u001b[0;34m=\u001b[0m\u001b[0;34m'replace'\u001b[0m\u001b[0;34m,\u001b[0m \u001b[0mprogress_bar\u001b[0m\u001b[0;34m=\u001b[0m\u001b[0;32mTrue\u001b[0m\u001b[0;34m)\u001b[0m\u001b[0;34m\u001b[0m\u001b[0;34m\u001b[0m\u001b[0m\n\u001b[0m",
            "\u001b[0;32m/usr/local/lib/python3.10/dist-packages/pandas/core/frame.py\u001b[0m in \u001b[0;36mto_gbq\u001b[0;34m(self, destination_table, project_id, chunksize, reauth, if_exists, auth_local_webserver, table_schema, location, progress_bar, credentials)\u001b[0m\n\u001b[1;32m   2168\u001b[0m         \u001b[0;32mfrom\u001b[0m \u001b[0mpandas\u001b[0m\u001b[0;34m.\u001b[0m\u001b[0mio\u001b[0m \u001b[0;32mimport\u001b[0m \u001b[0mgbq\u001b[0m\u001b[0;34m\u001b[0m\u001b[0;34m\u001b[0m\u001b[0m\n\u001b[1;32m   2169\u001b[0m \u001b[0;34m\u001b[0m\u001b[0m\n\u001b[0;32m-> 2170\u001b[0;31m         gbq.to_gbq(\n\u001b[0m\u001b[1;32m   2171\u001b[0m             \u001b[0mself\u001b[0m\u001b[0;34m,\u001b[0m\u001b[0;34m\u001b[0m\u001b[0;34m\u001b[0m\u001b[0m\n\u001b[1;32m   2172\u001b[0m             \u001b[0mdestination_table\u001b[0m\u001b[0;34m,\u001b[0m\u001b[0;34m\u001b[0m\u001b[0;34m\u001b[0m\u001b[0m\n",
            "\u001b[0;32m/usr/local/lib/python3.10/dist-packages/pandas/io/gbq.py\u001b[0m in \u001b[0;36mto_gbq\u001b[0;34m(dataframe, destination_table, project_id, chunksize, reauth, if_exists, auth_local_webserver, table_schema, location, progress_bar, credentials)\u001b[0m\n\u001b[1;32m    216\u001b[0m ) -> None:\n\u001b[1;32m    217\u001b[0m     \u001b[0mpandas_gbq\u001b[0m \u001b[0;34m=\u001b[0m \u001b[0m_try_import\u001b[0m\u001b[0;34m(\u001b[0m\u001b[0;34m)\u001b[0m\u001b[0;34m\u001b[0m\u001b[0;34m\u001b[0m\u001b[0m\n\u001b[0;32m--> 218\u001b[0;31m     pandas_gbq.to_gbq(\n\u001b[0m\u001b[1;32m    219\u001b[0m         \u001b[0mdataframe\u001b[0m\u001b[0;34m,\u001b[0m\u001b[0;34m\u001b[0m\u001b[0;34m\u001b[0m\u001b[0m\n\u001b[1;32m    220\u001b[0m         \u001b[0mdestination_table\u001b[0m\u001b[0;34m,\u001b[0m\u001b[0;34m\u001b[0m\u001b[0;34m\u001b[0m\u001b[0m\n",
            "\u001b[0;32m/usr/local/lib/python3.10/dist-packages/pandas_gbq/gbq.py\u001b[0m in \u001b[0;36mto_gbq\u001b[0;34m(dataframe, destination_table, project_id, chunksize, reauth, if_exists, auth_local_webserver, table_schema, location, progress_bar, credentials, api_method, verbose, private_key, auth_redirect_uri, client_id, client_secret)\u001b[0m\n\u001b[1;32m   1218\u001b[0m         \u001b[0;32mreturn\u001b[0m\u001b[0;34m\u001b[0m\u001b[0;34m\u001b[0m\u001b[0m\n\u001b[1;32m   1219\u001b[0m \u001b[0;34m\u001b[0m\u001b[0m\n\u001b[0;32m-> 1220\u001b[0;31m     connector.load_data(\n\u001b[0m\u001b[1;32m   1221\u001b[0m         \u001b[0mdataframe\u001b[0m\u001b[0;34m,\u001b[0m\u001b[0;34m\u001b[0m\u001b[0;34m\u001b[0m\u001b[0m\n\u001b[1;32m   1222\u001b[0m         \u001b[0mdestination_table_ref\u001b[0m\u001b[0;34m,\u001b[0m\u001b[0;34m\u001b[0m\u001b[0;34m\u001b[0m\u001b[0m\n",
            "\u001b[0;32m/usr/local/lib/python3.10/dist-packages/pandas_gbq/gbq.py\u001b[0m in \u001b[0;36mload_data\u001b[0;34m(self, dataframe, destination_table_ref, write_disposition, chunksize, schema, progress_bar, api_method, billing_project)\u001b[0m\n\u001b[1;32m    600\u001b[0m \u001b[0;34m\u001b[0m\u001b[0m\n\u001b[1;32m    601\u001b[0m         \u001b[0;32mtry\u001b[0m\u001b[0;34m:\u001b[0m\u001b[0;34m\u001b[0m\u001b[0;34m\u001b[0m\u001b[0m\n\u001b[0;32m--> 602\u001b[0;31m             chunks = load.load_chunks(\n\u001b[0m\u001b[1;32m    603\u001b[0m                 \u001b[0mself\u001b[0m\u001b[0;34m.\u001b[0m\u001b[0mclient\u001b[0m\u001b[0;34m,\u001b[0m\u001b[0;34m\u001b[0m\u001b[0;34m\u001b[0m\u001b[0m\n\u001b[1;32m    604\u001b[0m                 \u001b[0mdataframe\u001b[0m\u001b[0;34m,\u001b[0m\u001b[0;34m\u001b[0m\u001b[0;34m\u001b[0m\u001b[0m\n",
            "\u001b[0;32m/usr/local/lib/python3.10/dist-packages/pandas_gbq/load.py\u001b[0m in \u001b[0;36mload_chunks\u001b[0;34m(client, dataframe, destination_table_ref, chunksize, schema, location, api_method, write_disposition, billing_project)\u001b[0m\n\u001b[1;32m    241\u001b[0m ):\n\u001b[1;32m    242\u001b[0m     \u001b[0;32mif\u001b[0m \u001b[0mapi_method\u001b[0m \u001b[0;34m==\u001b[0m \u001b[0;34m\"load_parquet\"\u001b[0m\u001b[0;34m:\u001b[0m\u001b[0;34m\u001b[0m\u001b[0;34m\u001b[0m\u001b[0m\n\u001b[0;32m--> 243\u001b[0;31m         load_parquet(\n\u001b[0m\u001b[1;32m    244\u001b[0m             \u001b[0mclient\u001b[0m\u001b[0;34m,\u001b[0m\u001b[0;34m\u001b[0m\u001b[0;34m\u001b[0m\u001b[0m\n\u001b[1;32m    245\u001b[0m             \u001b[0mdataframe\u001b[0m\u001b[0;34m,\u001b[0m\u001b[0;34m\u001b[0m\u001b[0;34m\u001b[0m\u001b[0m\n",
            "\u001b[0;32m/usr/local/lib/python3.10/dist-packages/pandas_gbq/load.py\u001b[0m in \u001b[0;36mload_parquet\u001b[0;34m(client, dataframe, destination_table_ref, write_disposition, location, schema, billing_project)\u001b[0m\n\u001b[1;32m    129\u001b[0m \u001b[0;34m\u001b[0m\u001b[0m\n\u001b[1;32m    130\u001b[0m     \u001b[0;32mtry\u001b[0m\u001b[0;34m:\u001b[0m\u001b[0;34m\u001b[0m\u001b[0;34m\u001b[0m\u001b[0m\n\u001b[0;32m--> 131\u001b[0;31m         client.load_table_from_dataframe(\n\u001b[0m\u001b[1;32m    132\u001b[0m             \u001b[0mdataframe\u001b[0m\u001b[0;34m,\u001b[0m\u001b[0;34m\u001b[0m\u001b[0;34m\u001b[0m\u001b[0m\n\u001b[1;32m    133\u001b[0m             \u001b[0mdestination_table_ref\u001b[0m\u001b[0;34m,\u001b[0m\u001b[0;34m\u001b[0m\u001b[0;34m\u001b[0m\u001b[0m\n",
            "\u001b[0;32m/usr/local/lib/python3.10/dist-packages/google/cloud/bigquery/client.py\u001b[0m in \u001b[0;36mload_table_from_dataframe\u001b[0;34m(self, dataframe, destination, num_retries, job_id, job_id_prefix, location, project, job_config, parquet_compression, timeout)\u001b[0m\n\u001b[1;32m   2703\u001b[0m                         \u001b[0mparquet_compression\u001b[0m \u001b[0;34m=\u001b[0m \u001b[0mparquet_compression\u001b[0m\u001b[0;34m.\u001b[0m\u001b[0mupper\u001b[0m\u001b[0;34m(\u001b[0m\u001b[0;34m)\u001b[0m\u001b[0;34m\u001b[0m\u001b[0;34m\u001b[0m\u001b[0m\n\u001b[1;32m   2704\u001b[0m \u001b[0;34m\u001b[0m\u001b[0m\n\u001b[0;32m-> 2705\u001b[0;31m                     _pandas_helpers.dataframe_to_parquet(\n\u001b[0m\u001b[1;32m   2706\u001b[0m                         \u001b[0mdataframe\u001b[0m\u001b[0;34m,\u001b[0m\u001b[0;34m\u001b[0m\u001b[0;34m\u001b[0m\u001b[0m\n\u001b[1;32m   2707\u001b[0m                         \u001b[0mnew_job_config\u001b[0m\u001b[0;34m.\u001b[0m\u001b[0mschema\u001b[0m\u001b[0;34m,\u001b[0m\u001b[0;34m\u001b[0m\u001b[0;34m\u001b[0m\u001b[0m\n",
            "\u001b[0;32m/usr/local/lib/python3.10/dist-packages/google/cloud/bigquery/_pandas_helpers.py\u001b[0m in \u001b[0;36mdataframe_to_parquet\u001b[0;34m(dataframe, bq_schema, filepath, parquet_compression, parquet_use_compliant_nested_type)\u001b[0m\n\u001b[1;32m    717\u001b[0m \u001b[0;34m\u001b[0m\u001b[0m\n\u001b[1;32m    718\u001b[0m     \u001b[0mbq_schema\u001b[0m \u001b[0;34m=\u001b[0m \u001b[0mschema\u001b[0m\u001b[0;34m.\u001b[0m\u001b[0m_to_schema_fields\u001b[0m\u001b[0;34m(\u001b[0m\u001b[0mbq_schema\u001b[0m\u001b[0;34m)\u001b[0m\u001b[0;34m\u001b[0m\u001b[0;34m\u001b[0m\u001b[0m\n\u001b[0;32m--> 719\u001b[0;31m     \u001b[0marrow_table\u001b[0m \u001b[0;34m=\u001b[0m \u001b[0mdataframe_to_arrow\u001b[0m\u001b[0;34m(\u001b[0m\u001b[0mdataframe\u001b[0m\u001b[0;34m,\u001b[0m \u001b[0mbq_schema\u001b[0m\u001b[0;34m)\u001b[0m\u001b[0;34m\u001b[0m\u001b[0;34m\u001b[0m\u001b[0m\n\u001b[0m\u001b[1;32m    720\u001b[0m     pyarrow.parquet.write_table(\n\u001b[1;32m    721\u001b[0m         \u001b[0marrow_table\u001b[0m\u001b[0;34m,\u001b[0m\u001b[0;34m\u001b[0m\u001b[0;34m\u001b[0m\u001b[0m\n",
            "\u001b[0;32m/usr/local/lib/python3.10/dist-packages/google/cloud/bigquery/_pandas_helpers.py\u001b[0m in \u001b[0;36mdataframe_to_arrow\u001b[0;34m(dataframe, bq_schema)\u001b[0m\n\u001b[1;32m    660\u001b[0m         \u001b[0marrow_names\u001b[0m\u001b[0;34m.\u001b[0m\u001b[0mappend\u001b[0m\u001b[0;34m(\u001b[0m\u001b[0mbq_field\u001b[0m\u001b[0;34m.\u001b[0m\u001b[0mname\u001b[0m\u001b[0;34m)\u001b[0m\u001b[0;34m\u001b[0m\u001b[0;34m\u001b[0m\u001b[0m\n\u001b[1;32m    661\u001b[0m         arrow_arrays.append(\n\u001b[0;32m--> 662\u001b[0;31m             \u001b[0mbq_to_arrow_array\u001b[0m\u001b[0;34m(\u001b[0m\u001b[0mget_column_or_index\u001b[0m\u001b[0;34m(\u001b[0m\u001b[0mdataframe\u001b[0m\u001b[0;34m,\u001b[0m \u001b[0mbq_field\u001b[0m\u001b[0;34m.\u001b[0m\u001b[0mname\u001b[0m\u001b[0;34m)\u001b[0m\u001b[0;34m,\u001b[0m \u001b[0mbq_field\u001b[0m\u001b[0;34m)\u001b[0m\u001b[0;34m\u001b[0m\u001b[0;34m\u001b[0m\u001b[0m\n\u001b[0m\u001b[1;32m    663\u001b[0m         )\n\u001b[1;32m    664\u001b[0m         \u001b[0marrow_fields\u001b[0m\u001b[0;34m.\u001b[0m\u001b[0mappend\u001b[0m\u001b[0;34m(\u001b[0m\u001b[0mbq_to_arrow_field\u001b[0m\u001b[0;34m(\u001b[0m\u001b[0mbq_field\u001b[0m\u001b[0;34m,\u001b[0m \u001b[0marrow_arrays\u001b[0m\u001b[0;34m[\u001b[0m\u001b[0;34m-\u001b[0m\u001b[0;36m1\u001b[0m\u001b[0;34m]\u001b[0m\u001b[0;34m.\u001b[0m\u001b[0mtype\u001b[0m\u001b[0;34m)\u001b[0m\u001b[0;34m)\u001b[0m\u001b[0;34m\u001b[0m\u001b[0;34m\u001b[0m\u001b[0m\n",
            "\u001b[0;32m/usr/local/lib/python3.10/dist-packages/google/cloud/bigquery/_pandas_helpers.py\u001b[0m in \u001b[0;36mbq_to_arrow_array\u001b[0;34m(series, bq_field)\u001b[0m\n\u001b[1;32m    378\u001b[0m     \u001b[0;32mif\u001b[0m \u001b[0mfield_type_upper\u001b[0m \u001b[0;32min\u001b[0m \u001b[0mschema\u001b[0m\u001b[0;34m.\u001b[0m\u001b[0m_STRUCT_TYPES\u001b[0m\u001b[0;34m:\u001b[0m\u001b[0;34m\u001b[0m\u001b[0;34m\u001b[0m\u001b[0m\n\u001b[1;32m    379\u001b[0m         \u001b[0;32mreturn\u001b[0m \u001b[0mpyarrow\u001b[0m\u001b[0;34m.\u001b[0m\u001b[0mStructArray\u001b[0m\u001b[0;34m.\u001b[0m\u001b[0mfrom_pandas\u001b[0m\u001b[0;34m(\u001b[0m\u001b[0mseries\u001b[0m\u001b[0;34m,\u001b[0m \u001b[0mtype\u001b[0m\u001b[0;34m=\u001b[0m\u001b[0marrow_type\u001b[0m\u001b[0;34m)\u001b[0m\u001b[0;34m\u001b[0m\u001b[0;34m\u001b[0m\u001b[0m\n\u001b[0;32m--> 380\u001b[0;31m     \u001b[0;32mreturn\u001b[0m \u001b[0mpyarrow\u001b[0m\u001b[0;34m.\u001b[0m\u001b[0mArray\u001b[0m\u001b[0;34m.\u001b[0m\u001b[0mfrom_pandas\u001b[0m\u001b[0;34m(\u001b[0m\u001b[0mseries\u001b[0m\u001b[0;34m,\u001b[0m \u001b[0mtype\u001b[0m\u001b[0;34m=\u001b[0m\u001b[0marrow_type\u001b[0m\u001b[0;34m)\u001b[0m\u001b[0;34m\u001b[0m\u001b[0;34m\u001b[0m\u001b[0m\n\u001b[0m\u001b[1;32m    381\u001b[0m \u001b[0;34m\u001b[0m\u001b[0m\n\u001b[1;32m    382\u001b[0m \u001b[0;34m\u001b[0m\u001b[0m\n",
            "\u001b[0;32m/usr/local/lib/python3.10/dist-packages/pyarrow/array.pxi\u001b[0m in \u001b[0;36mpyarrow.lib.Array.from_pandas\u001b[0;34m()\u001b[0m\n",
            "\u001b[0;32m/usr/local/lib/python3.10/dist-packages/pyarrow/array.pxi\u001b[0m in \u001b[0;36mpyarrow.lib.array\u001b[0;34m()\u001b[0m\n",
            "\u001b[0;32m/usr/local/lib/python3.10/dist-packages/pyarrow/array.pxi\u001b[0m in \u001b[0;36mpyarrow.lib._ndarray_to_array\u001b[0;34m()\u001b[0m\n",
            "\u001b[0;32m/usr/local/lib/python3.10/dist-packages/pyarrow/error.pxi\u001b[0m in \u001b[0;36mpyarrow.lib.check_status\u001b[0;34m()\u001b[0m\n",
            "\u001b[0;31mArrowTypeError\u001b[0m: Expected a string or bytes dtype, got datetime64[ns]"
          ]
        }
      ]
    },
    {
      "cell_type": "code",
      "source": [
        "collisions_with_open_streets.dtypes[collisions_with_open_streets.dtypes == 'datetime64[ns]']"
      ],
      "metadata": {
        "colab": {
          "base_uri": "https://localhost:8080/"
        },
        "id": "hsIDOd_xLZra",
        "outputId": "0a8cc35f-5f2a-4aaa-be43-40dcdcc62d60"
      },
      "execution_count": 42,
      "outputs": [
        {
          "output_type": "execute_result",
          "data": {
            "text/plain": [
              "apprstartd    datetime64[ns]\n",
              "apprenddat    datetime64[ns]\n",
              "dtype: object"
            ]
          },
          "metadata": {},
          "execution_count": 42
        }
      ]
    },
    {
      "cell_type": "code",
      "source": [
        "# Convert to datetime only if they are not already datetime objects\n",
        "collisions_with_open_streets['crash_date'] = pd.to_datetime(collisions_with_open_streets['crash_date'], errors='coerce')\n",
        "collisions_with_open_streets['crash_datetime'] = pd.to_datetime(collisions_with_open_streets['crash_datetime'], errors='coerce')\n",
        "collisions_with_open_streets['apprstartd'] = pd.to_datetime(collisions_with_open_streets['apprstartd'], errors='coerce')\n",
        "collisions_with_open_streets['apprenddat'] = pd.to_datetime(collisions_with_open_streets['apprenddat'], errors='coerce')\n",
        "\n",
        "# Assuming crash_time is a separate time column and not already part of crash_date\n",
        "# If crash_time is not a time object but a string representing time, this step might need adjustment\n",
        "\n",
        "collisions_with_open_streets['crash_date'] = collisions_with_open_streets['crash_date'].dt.strftime('%Y-%m-%d')\n",
        "collisions_with_open_streets['crash_datetime'] = collisions_with_open_streets['crash_datetime'].dt.strftime('%Y-%m-%d')\n",
        "collisions_with_open_streets['apprstartd'] = collisions_with_open_streets['apprstartd'].dt.strftime('%Y-%m-%d')\n",
        "collisions_with_open_streets['apprenddat'] = collisions_with_open_streets['apprenddat'].dt.strftime('%Y-%m-%d')\n",
        "\n",
        "project_id = 'open-data-2024'\n",
        "dataset_id = 'nyc_motor_vechicle_crashes'\n",
        "table_id = 'collisions_with_open_streets' #UPDATE\n",
        "table_full_name = f\"{dataset_id}.{table_id}\"\n",
        "\n",
        "# Save the DataFrame to BigQuery\n",
        "#UPDATE DF\n",
        "collisions_with_open_streets.to_gbq(destination_table=table_full_name, project_id=project_id, if_exists='replace', progress_bar=True)"
      ],
      "metadata": {
        "colab": {
          "base_uri": "https://localhost:8080/"
        },
        "id": "NRzedFAgKiCO",
        "outputId": "c1fc1399-d852-4485-f613-7c06dcda2cc4"
      },
      "execution_count": 43,
      "outputs": [
        {
          "output_type": "stream",
          "name": "stderr",
          "text": [
            "100%|██████████| 1/1 [00:00<00:00, 1107.55it/s]\n"
          ]
        }
      ]
    },
    {
      "cell_type": "markdown",
      "source": [
        "# Next steps\n",
        "* EDA in Data Studio\n",
        "* Think through model and web app"
      ],
      "metadata": {
        "id": "VxUiCWQ4MXGP"
      }
    }
  ]
}