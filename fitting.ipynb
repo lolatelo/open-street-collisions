{
  "nbformat": 4,
  "nbformat_minor": 0,
  "metadata": {
    "colab": {
      "provenance": [],
      "toc_visible": true,
      "authorship_tag": "ABX9TyPW0UMglEMN7ErI46DwFaqY"
    },
    "kernelspec": {
      "name": "python3",
      "display_name": "Python 3"
    },
    "language_info": {
      "name": "python"
    }
  },
  "cells": [
    {
      "cell_type": "code",
      "execution_count": 1,
      "metadata": {
        "id": "-AXZCAUnOsq4"
      },
      "outputs": [],
      "source": [
        "from fastai.imports import *\n",
        "from fastai.tabular import *\n",
        "from sklearn.ensemble import RandomForestRegressor, GradientBoostingRegressor\n",
        "from IPython.display import display\n",
        "from sklearn import metrics\n",
        "import requests\n",
        "import pandas as pd\n",
        "from pandas_gbq import to_gbq\n",
        "import json\n",
        "from geopy.geocoders import Nominatim\n",
        "from geopy.extra.rate_limiter import RateLimiter\n",
        "import geopandas as gpd\n",
        "from shapely.geometry import Point, LineString\n",
        "import matplotlib.pyplot as plt\n",
        "import os\n",
        "from google.cloud import bigquery\n",
        "from sklearn.metrics import mean_absolute_error, mean_squared_error, r2_score\n",
        "from sklearn.preprocessing import FunctionTransformer\n",
        "from pandas import to_datetime\n",
        "from sklearn.model_selection import train_test_split"
      ]
    },
    {
      "cell_type": "markdown",
      "source": [
        "# Data pull"
      ],
      "metadata": {
        "id": "Xgc47OTOpwV9"
      }
    },
    {
      "cell_type": "code",
      "source": [
        "from google.colab import files\n",
        "uploaded = files.upload()"
      ],
      "metadata": {
        "colab": {
          "base_uri": "https://localhost:8080/",
          "height": 73
        },
        "id": "gAy1huKUPtAC",
        "outputId": "854419e9-3904-467a-f570-3236fd250d17"
      },
      "execution_count": 2,
      "outputs": [
        {
          "output_type": "display_data",
          "data": {
            "text/plain": [
              "<IPython.core.display.HTML object>"
            ],
            "text/html": [
              "\n",
              "     <input type=\"file\" id=\"files-9415e207-eae1-4887-b434-f22d3b5d03ff\" name=\"files[]\" multiple disabled\n",
              "        style=\"border:none\" />\n",
              "     <output id=\"result-9415e207-eae1-4887-b434-f22d3b5d03ff\">\n",
              "      Upload widget is only available when the cell has been executed in the\n",
              "      current browser session. Please rerun this cell to enable.\n",
              "      </output>\n",
              "      <script>// Copyright 2017 Google LLC\n",
              "//\n",
              "// Licensed under the Apache License, Version 2.0 (the \"License\");\n",
              "// you may not use this file except in compliance with the License.\n",
              "// You may obtain a copy of the License at\n",
              "//\n",
              "//      http://www.apache.org/licenses/LICENSE-2.0\n",
              "//\n",
              "// Unless required by applicable law or agreed to in writing, software\n",
              "// distributed under the License is distributed on an \"AS IS\" BASIS,\n",
              "// WITHOUT WARRANTIES OR CONDITIONS OF ANY KIND, either express or implied.\n",
              "// See the License for the specific language governing permissions and\n",
              "// limitations under the License.\n",
              "\n",
              "/**\n",
              " * @fileoverview Helpers for google.colab Python module.\n",
              " */\n",
              "(function(scope) {\n",
              "function span(text, styleAttributes = {}) {\n",
              "  const element = document.createElement('span');\n",
              "  element.textContent = text;\n",
              "  for (const key of Object.keys(styleAttributes)) {\n",
              "    element.style[key] = styleAttributes[key];\n",
              "  }\n",
              "  return element;\n",
              "}\n",
              "\n",
              "// Max number of bytes which will be uploaded at a time.\n",
              "const MAX_PAYLOAD_SIZE = 100 * 1024;\n",
              "\n",
              "function _uploadFiles(inputId, outputId) {\n",
              "  const steps = uploadFilesStep(inputId, outputId);\n",
              "  const outputElement = document.getElementById(outputId);\n",
              "  // Cache steps on the outputElement to make it available for the next call\n",
              "  // to uploadFilesContinue from Python.\n",
              "  outputElement.steps = steps;\n",
              "\n",
              "  return _uploadFilesContinue(outputId);\n",
              "}\n",
              "\n",
              "// This is roughly an async generator (not supported in the browser yet),\n",
              "// where there are multiple asynchronous steps and the Python side is going\n",
              "// to poll for completion of each step.\n",
              "// This uses a Promise to block the python side on completion of each step,\n",
              "// then passes the result of the previous step as the input to the next step.\n",
              "function _uploadFilesContinue(outputId) {\n",
              "  const outputElement = document.getElementById(outputId);\n",
              "  const steps = outputElement.steps;\n",
              "\n",
              "  const next = steps.next(outputElement.lastPromiseValue);\n",
              "  return Promise.resolve(next.value.promise).then((value) => {\n",
              "    // Cache the last promise value to make it available to the next\n",
              "    // step of the generator.\n",
              "    outputElement.lastPromiseValue = value;\n",
              "    return next.value.response;\n",
              "  });\n",
              "}\n",
              "\n",
              "/**\n",
              " * Generator function which is called between each async step of the upload\n",
              " * process.\n",
              " * @param {string} inputId Element ID of the input file picker element.\n",
              " * @param {string} outputId Element ID of the output display.\n",
              " * @return {!Iterable<!Object>} Iterable of next steps.\n",
              " */\n",
              "function* uploadFilesStep(inputId, outputId) {\n",
              "  const inputElement = document.getElementById(inputId);\n",
              "  inputElement.disabled = false;\n",
              "\n",
              "  const outputElement = document.getElementById(outputId);\n",
              "  outputElement.innerHTML = '';\n",
              "\n",
              "  const pickedPromise = new Promise((resolve) => {\n",
              "    inputElement.addEventListener('change', (e) => {\n",
              "      resolve(e.target.files);\n",
              "    });\n",
              "  });\n",
              "\n",
              "  const cancel = document.createElement('button');\n",
              "  inputElement.parentElement.appendChild(cancel);\n",
              "  cancel.textContent = 'Cancel upload';\n",
              "  const cancelPromise = new Promise((resolve) => {\n",
              "    cancel.onclick = () => {\n",
              "      resolve(null);\n",
              "    };\n",
              "  });\n",
              "\n",
              "  // Wait for the user to pick the files.\n",
              "  const files = yield {\n",
              "    promise: Promise.race([pickedPromise, cancelPromise]),\n",
              "    response: {\n",
              "      action: 'starting',\n",
              "    }\n",
              "  };\n",
              "\n",
              "  cancel.remove();\n",
              "\n",
              "  // Disable the input element since further picks are not allowed.\n",
              "  inputElement.disabled = true;\n",
              "\n",
              "  if (!files) {\n",
              "    return {\n",
              "      response: {\n",
              "        action: 'complete',\n",
              "      }\n",
              "    };\n",
              "  }\n",
              "\n",
              "  for (const file of files) {\n",
              "    const li = document.createElement('li');\n",
              "    li.append(span(file.name, {fontWeight: 'bold'}));\n",
              "    li.append(span(\n",
              "        `(${file.type || 'n/a'}) - ${file.size} bytes, ` +\n",
              "        `last modified: ${\n",
              "            file.lastModifiedDate ? file.lastModifiedDate.toLocaleDateString() :\n",
              "                                    'n/a'} - `));\n",
              "    const percent = span('0% done');\n",
              "    li.appendChild(percent);\n",
              "\n",
              "    outputElement.appendChild(li);\n",
              "\n",
              "    const fileDataPromise = new Promise((resolve) => {\n",
              "      const reader = new FileReader();\n",
              "      reader.onload = (e) => {\n",
              "        resolve(e.target.result);\n",
              "      };\n",
              "      reader.readAsArrayBuffer(file);\n",
              "    });\n",
              "    // Wait for the data to be ready.\n",
              "    let fileData = yield {\n",
              "      promise: fileDataPromise,\n",
              "      response: {\n",
              "        action: 'continue',\n",
              "      }\n",
              "    };\n",
              "\n",
              "    // Use a chunked sending to avoid message size limits. See b/62115660.\n",
              "    let position = 0;\n",
              "    do {\n",
              "      const length = Math.min(fileData.byteLength - position, MAX_PAYLOAD_SIZE);\n",
              "      const chunk = new Uint8Array(fileData, position, length);\n",
              "      position += length;\n",
              "\n",
              "      const base64 = btoa(String.fromCharCode.apply(null, chunk));\n",
              "      yield {\n",
              "        response: {\n",
              "          action: 'append',\n",
              "          file: file.name,\n",
              "          data: base64,\n",
              "        },\n",
              "      };\n",
              "\n",
              "      let percentDone = fileData.byteLength === 0 ?\n",
              "          100 :\n",
              "          Math.round((position / fileData.byteLength) * 100);\n",
              "      percent.textContent = `${percentDone}% done`;\n",
              "\n",
              "    } while (position < fileData.byteLength);\n",
              "  }\n",
              "\n",
              "  // All done.\n",
              "  yield {\n",
              "    response: {\n",
              "      action: 'complete',\n",
              "    }\n",
              "  };\n",
              "}\n",
              "\n",
              "scope.google = scope.google || {};\n",
              "scope.google.colab = scope.google.colab || {};\n",
              "scope.google.colab._files = {\n",
              "  _uploadFiles,\n",
              "  _uploadFilesContinue,\n",
              "};\n",
              "})(self);\n",
              "</script> "
            ]
          },
          "metadata": {}
        },
        {
          "output_type": "stream",
          "name": "stdout",
          "text": [
            "Saving open-data-2024-78df73c35291.json to open-data-2024-78df73c35291 (1).json\n"
          ]
        }
      ]
    },
    {
      "cell_type": "code",
      "source": [
        "os.environ[\"GOOGLE_APPLICATION_CREDENTIALS\"] = \"/content/open-data-2024-78df73c35291.json\"\n",
        "\n",
        "# Construct a BigQuery client object.\n",
        "client = bigquery.Client()\n",
        "\n",
        "# Query to pull data from BigQuery\n",
        "query = \"\"\"\n",
        "SELECT * FROM\n",
        "`open-data-2024.nyc_motor_vechicle_crashes.collisions_with_open_streets`\n",
        "where crash_date >= '2023-01-01'\n",
        "\"\"\"\n",
        "query_job = client.query(query)\n",
        "\n",
        "# Store the data in a pandas DataFrame\n",
        "collisions = query_job.to_dataframe()"
      ],
      "metadata": {
        "id": "57gz7WnQPQzA"
      },
      "execution_count": 3,
      "outputs": []
    },
    {
      "cell_type": "markdown",
      "source": [
        "#Gradient Boost Regression Tree"
      ],
      "metadata": {
        "id": "tbKhorDES6y-"
      }
    },
    {
      "cell_type": "markdown",
      "source": [
        "## Training"
      ],
      "metadata": {
        "id": "ESUcna1Bpufj"
      }
    },
    {
      "cell_type": "code",
      "source": [
        "# create target variables\n",
        "collisions['total_number_of_casualties'] = collisions['number_of_persons_injured'] + collisions['number_of_persons_killed']\n",
        "\n",
        "# clean up features\n",
        "collisions['is_open_street'] = collisions['is_open_street'].astype(int)\n",
        "collisions['crash_during_open_street'] = collisions['crash_during_open_street'].astype(int)\n",
        "# Convert 'crash_datetime' to datetime format if not already\n",
        "collisions['crash_datetime'] = to_datetime(collisions['crash_datetime'])\n",
        "\n",
        "# Extracting features from 'crash_datetime'\n",
        "collisions['day_of_week'] = collisions['crash_datetime'].dt.dayofweek  # Monday=0, Sunday=6\n",
        "collisions['hour_of_day'] = collisions['crash_datetime'].dt.hour  # 0 to 23\n",
        "collisions['month'] = collisions['crash_datetime'].dt.month  # 1 to 12"
      ],
      "metadata": {
        "id": "6AmZFn73WEhc"
      },
      "execution_count": 4,
      "outputs": []
    },
    {
      "cell_type": "code",
      "source": [
        "# Defining the features and target variable for the model\n",
        "#features = ['latitude', 'longitude', 'is_open_street', 'crash_during_open_street', 'day_of_week', 'hour_of_day', 'month']\n",
        "\n",
        "\n",
        "# Splitting the dataset into training and testing sets\n"
      ],
      "metadata": {
        "id": "1viistRNZDGh"
      },
      "execution_count": 168,
      "outputs": []
    },
    {
      "cell_type": "code",
      "source": [
        "from sklearn.impute import SimpleImputer\n",
        "from sklearn.pipeline import Pipeline\n",
        "from sklearn.compose import ColumnTransformer\n",
        "from sklearn.ensemble import GradientBoostingRegressor\n",
        "from sklearn.preprocessing import PolynomialFeatures, KBinsDiscretizer\n",
        "\n",
        "\n",
        "# Impute missing values in the target variable (y_train)\n",
        "target_imputer = SimpleImputer(strategy='mean')  # Using mean strategy; adjust as needed for your target\n",
        "\n",
        "\n",
        "# Feature Engineering: Interaction Terms and Polynomial Features\n",
        "\n",
        "# 2. Binning 'hour_of_day' into categories (morning, afternoon, evening, night)\n",
        "# Define bin edges and labels\n",
        "bins = [0, 6, 12, 18, 24]\n",
        "labels = ['night', 'morning', 'afternoon', 'evening']\n",
        "kbins = KBinsDiscretizer(n_bins=4, encode='onehot-dense', strategy='uniform')\n",
        "hour_of_day_binned = kbins.fit_transform(collisions[['hour_of_day']])\n",
        "# Create a DataFrame for the binned hours with appropriate column names\n",
        "hour_of_day_binned_df = pd.DataFrame(hour_of_day_binned, columns=labels)\n",
        "\n",
        "# Combine all engineered features with the original DataFrame (for simplicity, assuming original df is ready for these operations)\n",
        "#df_engineered = df.join([lat_long_poly_df, hour_of_day_binned_df])\n",
        "# Now, combining the DataFrame again with the corrected polynomial features DataFrame\n",
        "collisions_engineered = pd.concat([collisions, lat_long_poly_df, hour_of_day_binned_df], axis=1)\n",
        "\n",
        "# Define numerical and categorical features\n",
        "numerical_features = ['latitude', 'longitude', 'day_of_week', 'hour_of_day','night']\n",
        "categorical_features = ['crash_during_open_street']\n",
        "\n",
        "# Imputers for numerical and categorical data\n",
        "numerical_imputer = SimpleImputer(strategy='mean')\n",
        "categorical_imputer = SimpleImputer(strategy='most_frequent')\n",
        "\n",
        "\n",
        "# Preprocessor for handling both numerical and categorical data\n",
        "preprocessor = ColumnTransformer(\n",
        "    transformers=[\n",
        "        ('num', numerical_imputer, numerical_features),\n",
        "        ('cat', categorical_imputer, categorical_features),\n",
        "    ])\n",
        "\n",
        "\n",
        "\n",
        "# Update feature list for the model\n",
        "# Make sure to exclude any original features replaced or not needed after engineering\n",
        "engineered_features = numerical_features + categorical_features\n",
        "\n",
        "X = collisions_engineered[engineered_features]  # Features\n",
        "y = collisions_engineered[target]  # Target variable\n",
        "\n",
        "X_train, X_test, y_train, y_test = train_test_split(X, y, test_size=0.2, random_state=42)\n",
        "\n",
        "# Reshape y_train to fit the imputer expected format and perform imputation\n",
        "y_train_imputed = target_imputer.fit_transform(y_train.values.reshape(-1, 1)).ravel()\n",
        "\n",
        "# Now, you can use `y_train_imputed` for fitting the model instead of `y_train`\n",
        "# Ensure the pipeline is defined as before, without the need to impute the target within it"
      ],
      "metadata": {
        "id": "9396VT_Qashn"
      },
      "execution_count": 19,
      "outputs": []
    },
    {
      "cell_type": "code",
      "source": [
        "\n",
        "# Pipeline to handle imputation and model fitting\n",
        "pipeline = Pipeline(steps=[\n",
        "    ('preprocessor', preprocessor),\n",
        "    ('model', GradientBoostingRegressor(random_state=42))\n",
        "])\n",
        "\n",
        "# Fit the pipeline to the data\n",
        "pipeline.fit(X_train, y_train_imputed)\n",
        "\n",
        "# Assuming X_train and y_train are already defined and include the correct columns and target variable.\n",
        "# This code block handles NaN imputation and model fitting in a single step.\n"
      ],
      "metadata": {
        "colab": {
          "base_uri": "https://localhost:8080/",
          "height": 192
        },
        "id": "HIEKWlO46IDn",
        "outputId": "06bba97c-613f-4956-ca1a-4422d0a91c19"
      },
      "execution_count": 20,
      "outputs": [
        {
          "output_type": "execute_result",
          "data": {
            "text/plain": [
              "Pipeline(steps=[('preprocessor',\n",
              "                 ColumnTransformer(transformers=[('num', SimpleImputer(),\n",
              "                                                  ['latitude', 'longitude',\n",
              "                                                   'day_of_week', 'hour_of_day',\n",
              "                                                   'night']),\n",
              "                                                 ('cat',\n",
              "                                                  SimpleImputer(strategy='most_frequent'),\n",
              "                                                  ['crash_during_open_street'])])),\n",
              "                ('model', GradientBoostingRegressor(random_state=42))])"
            ],
            "text/html": [
              "<style>#sk-container-id-3 {color: black;background-color: white;}#sk-container-id-3 pre{padding: 0;}#sk-container-id-3 div.sk-toggleable {background-color: white;}#sk-container-id-3 label.sk-toggleable__label {cursor: pointer;display: block;width: 100%;margin-bottom: 0;padding: 0.3em;box-sizing: border-box;text-align: center;}#sk-container-id-3 label.sk-toggleable__label-arrow:before {content: \"▸\";float: left;margin-right: 0.25em;color: #696969;}#sk-container-id-3 label.sk-toggleable__label-arrow:hover:before {color: black;}#sk-container-id-3 div.sk-estimator:hover label.sk-toggleable__label-arrow:before {color: black;}#sk-container-id-3 div.sk-toggleable__content {max-height: 0;max-width: 0;overflow: hidden;text-align: left;background-color: #f0f8ff;}#sk-container-id-3 div.sk-toggleable__content pre {margin: 0.2em;color: black;border-radius: 0.25em;background-color: #f0f8ff;}#sk-container-id-3 input.sk-toggleable__control:checked~div.sk-toggleable__content {max-height: 200px;max-width: 100%;overflow: auto;}#sk-container-id-3 input.sk-toggleable__control:checked~label.sk-toggleable__label-arrow:before {content: \"▾\";}#sk-container-id-3 div.sk-estimator input.sk-toggleable__control:checked~label.sk-toggleable__label {background-color: #d4ebff;}#sk-container-id-3 div.sk-label input.sk-toggleable__control:checked~label.sk-toggleable__label {background-color: #d4ebff;}#sk-container-id-3 input.sk-hidden--visually {border: 0;clip: rect(1px 1px 1px 1px);clip: rect(1px, 1px, 1px, 1px);height: 1px;margin: -1px;overflow: hidden;padding: 0;position: absolute;width: 1px;}#sk-container-id-3 div.sk-estimator {font-family: monospace;background-color: #f0f8ff;border: 1px dotted black;border-radius: 0.25em;box-sizing: border-box;margin-bottom: 0.5em;}#sk-container-id-3 div.sk-estimator:hover {background-color: #d4ebff;}#sk-container-id-3 div.sk-parallel-item::after {content: \"\";width: 100%;border-bottom: 1px solid gray;flex-grow: 1;}#sk-container-id-3 div.sk-label:hover label.sk-toggleable__label {background-color: #d4ebff;}#sk-container-id-3 div.sk-serial::before {content: \"\";position: absolute;border-left: 1px solid gray;box-sizing: border-box;top: 0;bottom: 0;left: 50%;z-index: 0;}#sk-container-id-3 div.sk-serial {display: flex;flex-direction: column;align-items: center;background-color: white;padding-right: 0.2em;padding-left: 0.2em;position: relative;}#sk-container-id-3 div.sk-item {position: relative;z-index: 1;}#sk-container-id-3 div.sk-parallel {display: flex;align-items: stretch;justify-content: center;background-color: white;position: relative;}#sk-container-id-3 div.sk-item::before, #sk-container-id-3 div.sk-parallel-item::before {content: \"\";position: absolute;border-left: 1px solid gray;box-sizing: border-box;top: 0;bottom: 0;left: 50%;z-index: -1;}#sk-container-id-3 div.sk-parallel-item {display: flex;flex-direction: column;z-index: 1;position: relative;background-color: white;}#sk-container-id-3 div.sk-parallel-item:first-child::after {align-self: flex-end;width: 50%;}#sk-container-id-3 div.sk-parallel-item:last-child::after {align-self: flex-start;width: 50%;}#sk-container-id-3 div.sk-parallel-item:only-child::after {width: 0;}#sk-container-id-3 div.sk-dashed-wrapped {border: 1px dashed gray;margin: 0 0.4em 0.5em 0.4em;box-sizing: border-box;padding-bottom: 0.4em;background-color: white;}#sk-container-id-3 div.sk-label label {font-family: monospace;font-weight: bold;display: inline-block;line-height: 1.2em;}#sk-container-id-3 div.sk-label-container {text-align: center;}#sk-container-id-3 div.sk-container {/* jupyter's `normalize.less` sets `[hidden] { display: none; }` but bootstrap.min.css set `[hidden] { display: none !important; }` so we also need the `!important` here to be able to override the default hidden behavior on the sphinx rendered scikit-learn.org. See: https://github.com/scikit-learn/scikit-learn/issues/21755 */display: inline-block !important;position: relative;}#sk-container-id-3 div.sk-text-repr-fallback {display: none;}</style><div id=\"sk-container-id-3\" class=\"sk-top-container\"><div class=\"sk-text-repr-fallback\"><pre>Pipeline(steps=[(&#x27;preprocessor&#x27;,\n",
              "                 ColumnTransformer(transformers=[(&#x27;num&#x27;, SimpleImputer(),\n",
              "                                                  [&#x27;latitude&#x27;, &#x27;longitude&#x27;,\n",
              "                                                   &#x27;day_of_week&#x27;, &#x27;hour_of_day&#x27;,\n",
              "                                                   &#x27;night&#x27;]),\n",
              "                                                 (&#x27;cat&#x27;,\n",
              "                                                  SimpleImputer(strategy=&#x27;most_frequent&#x27;),\n",
              "                                                  [&#x27;crash_during_open_street&#x27;])])),\n",
              "                (&#x27;model&#x27;, GradientBoostingRegressor(random_state=42))])</pre><b>In a Jupyter environment, please rerun this cell to show the HTML representation or trust the notebook. <br />On GitHub, the HTML representation is unable to render, please try loading this page with nbviewer.org.</b></div><div class=\"sk-container\" hidden><div class=\"sk-item sk-dashed-wrapped\"><div class=\"sk-label-container\"><div class=\"sk-label sk-toggleable\"><input class=\"sk-toggleable__control sk-hidden--visually\" id=\"sk-estimator-id-15\" type=\"checkbox\" ><label for=\"sk-estimator-id-15\" class=\"sk-toggleable__label sk-toggleable__label-arrow\">Pipeline</label><div class=\"sk-toggleable__content\"><pre>Pipeline(steps=[(&#x27;preprocessor&#x27;,\n",
              "                 ColumnTransformer(transformers=[(&#x27;num&#x27;, SimpleImputer(),\n",
              "                                                  [&#x27;latitude&#x27;, &#x27;longitude&#x27;,\n",
              "                                                   &#x27;day_of_week&#x27;, &#x27;hour_of_day&#x27;,\n",
              "                                                   &#x27;night&#x27;]),\n",
              "                                                 (&#x27;cat&#x27;,\n",
              "                                                  SimpleImputer(strategy=&#x27;most_frequent&#x27;),\n",
              "                                                  [&#x27;crash_during_open_street&#x27;])])),\n",
              "                (&#x27;model&#x27;, GradientBoostingRegressor(random_state=42))])</pre></div></div></div><div class=\"sk-serial\"><div class=\"sk-item sk-dashed-wrapped\"><div class=\"sk-label-container\"><div class=\"sk-label sk-toggleable\"><input class=\"sk-toggleable__control sk-hidden--visually\" id=\"sk-estimator-id-16\" type=\"checkbox\" ><label for=\"sk-estimator-id-16\" class=\"sk-toggleable__label sk-toggleable__label-arrow\">preprocessor: ColumnTransformer</label><div class=\"sk-toggleable__content\"><pre>ColumnTransformer(transformers=[(&#x27;num&#x27;, SimpleImputer(),\n",
              "                                 [&#x27;latitude&#x27;, &#x27;longitude&#x27;, &#x27;day_of_week&#x27;,\n",
              "                                  &#x27;hour_of_day&#x27;, &#x27;night&#x27;]),\n",
              "                                (&#x27;cat&#x27;, SimpleImputer(strategy=&#x27;most_frequent&#x27;),\n",
              "                                 [&#x27;crash_during_open_street&#x27;])])</pre></div></div></div><div class=\"sk-parallel\"><div class=\"sk-parallel-item\"><div class=\"sk-item\"><div class=\"sk-label-container\"><div class=\"sk-label sk-toggleable\"><input class=\"sk-toggleable__control sk-hidden--visually\" id=\"sk-estimator-id-17\" type=\"checkbox\" ><label for=\"sk-estimator-id-17\" class=\"sk-toggleable__label sk-toggleable__label-arrow\">num</label><div class=\"sk-toggleable__content\"><pre>[&#x27;latitude&#x27;, &#x27;longitude&#x27;, &#x27;day_of_week&#x27;, &#x27;hour_of_day&#x27;, &#x27;night&#x27;]</pre></div></div></div><div class=\"sk-serial\"><div class=\"sk-item\"><div class=\"sk-estimator sk-toggleable\"><input class=\"sk-toggleable__control sk-hidden--visually\" id=\"sk-estimator-id-18\" type=\"checkbox\" ><label for=\"sk-estimator-id-18\" class=\"sk-toggleable__label sk-toggleable__label-arrow\">SimpleImputer</label><div class=\"sk-toggleable__content\"><pre>SimpleImputer()</pre></div></div></div></div></div></div><div class=\"sk-parallel-item\"><div class=\"sk-item\"><div class=\"sk-label-container\"><div class=\"sk-label sk-toggleable\"><input class=\"sk-toggleable__control sk-hidden--visually\" id=\"sk-estimator-id-19\" type=\"checkbox\" ><label for=\"sk-estimator-id-19\" class=\"sk-toggleable__label sk-toggleable__label-arrow\">cat</label><div class=\"sk-toggleable__content\"><pre>[&#x27;crash_during_open_street&#x27;]</pre></div></div></div><div class=\"sk-serial\"><div class=\"sk-item\"><div class=\"sk-estimator sk-toggleable\"><input class=\"sk-toggleable__control sk-hidden--visually\" id=\"sk-estimator-id-20\" type=\"checkbox\" ><label for=\"sk-estimator-id-20\" class=\"sk-toggleable__label sk-toggleable__label-arrow\">SimpleImputer</label><div class=\"sk-toggleable__content\"><pre>SimpleImputer(strategy=&#x27;most_frequent&#x27;)</pre></div></div></div></div></div></div></div></div><div class=\"sk-item\"><div class=\"sk-estimator sk-toggleable\"><input class=\"sk-toggleable__control sk-hidden--visually\" id=\"sk-estimator-id-21\" type=\"checkbox\" ><label for=\"sk-estimator-id-21\" class=\"sk-toggleable__label sk-toggleable__label-arrow\">GradientBoostingRegressor</label><div class=\"sk-toggleable__content\"><pre>GradientBoostingRegressor(random_state=42)</pre></div></div></div></div></div></div></div>"
            ]
          },
          "metadata": {},
          "execution_count": 20
        }
      ]
    },
    {
      "cell_type": "markdown",
      "source": [
        "## Evaluating the model"
      ],
      "metadata": {
        "id": "sOHwCR8hpsHy"
      }
    },
    {
      "cell_type": "code",
      "source": [
        "# Predict on the test set\n",
        "y_pred = pipeline.predict(X_test)\n",
        "\n",
        "# Evaluate the model\n",
        "mae = mean_absolute_error(y_test, y_pred)\n",
        "mse = mean_squared_error(y_test, y_pred)\n",
        "r2 = r2_score(y_test, y_pred)\n",
        "\n",
        "print(f\"Mean Absolute Error (MAE): {mae}\")\n",
        "print(f\"Mean Squared Error (MSE): {mse}\")\n",
        "print(f\"R-squared: {r2}\")"
      ],
      "metadata": {
        "colab": {
          "base_uri": "https://localhost:8080/"
        },
        "id": "3kYohbMYpy2_",
        "outputId": "797c1064-3c31-4c4a-ac61-03b7dab38e8c"
      },
      "execution_count": 21,
      "outputs": [
        {
          "output_type": "stream",
          "name": "stdout",
          "text": [
            "Mean Absolute Error (MAE): 6.404124165760607\n",
            "Mean Squared Error (MSE): 73.3748458987699\n",
            "R-squared: 0.011010375051969667\n"
          ]
        }
      ]
    },
    {
      "cell_type": "markdown",
      "source": [
        "### Feature importance"
      ],
      "metadata": {
        "id": "MCCAwz17qBNR"
      }
    },
    {
      "cell_type": "code",
      "source": [
        "feature_importances = pipeline.named_steps['model'].feature_importances_\n",
        "\n",
        "# Display feature importances\n",
        "for feature, importance in zip(engineered_features, feature_importances):\n",
        "    print(f\"{feature}: {importance}\")"
      ],
      "metadata": {
        "colab": {
          "base_uri": "https://localhost:8080/"
        },
        "id": "MGroVacEqDJf",
        "outputId": "5b7cb336-5d06-4425-bd8a-3dfde11fdb76"
      },
      "execution_count": 17,
      "outputs": [
        {
          "output_type": "stream",
          "name": "stdout",
          "text": [
            "latitude: 0.09235024296943331\n",
            "longitude: 0.07131660926257545\n",
            "is_open_street: 0.05021852671875871\n",
            "crash_during_open_street: 0.1955027729953124\n",
            "day_of_week: 0.052874049704128644\n",
            "hour_of_day: 0.0011449375332897524\n",
            "month: 0.0004821794772096314\n",
            "crash_open_street_day_interaction: 6.523940051717055e-05\n",
            "night: 0.3615003210371768\n",
            "afternoon: 0.09381640813601921\n",
            "evening: 0.07949922801201448\n",
            "latitude longitude: 0.0\n",
            "latitude^2: 0.0009573899505746044\n",
            "longitude^2: 0.0002720948029899163\n"
          ]
        }
      ]
    },
    {
      "cell_type": "markdown",
      "source": [
        "## random forest"
      ],
      "metadata": {
        "id": "bpU5kGcCRKZO"
      }
    },
    {
      "cell_type": "code",
      "source": [
        "from sklearn.ensemble import RandomForestRegressor\n",
        "\n",
        "# Assuming the setup and data preparation is the same as before\n",
        "\n",
        "# Update the model in the pipeline to use a RandomForestRegressor\n",
        "pipeline_rf = Pipeline(steps=[\n",
        "    ('preprocessor', preprocessor),  # Keep the same preprocessor as before\n",
        "    ('model', RandomForestRegressor(random_state=42))\n",
        "])\n",
        "\n",
        "# Fit the pipeline to the training data\n",
        "pipeline_rf.fit(X_train, y_train_imputed)\n",
        "\n",
        "# Predict on the test set\n",
        "y_pred_rf = pipeline_rf.predict(X_test)\n",
        "\n",
        "# Evaluate the model\n",
        "mae_rf = mean_absolute_error(y_test, y_pred_rf)\n",
        "mse_rf = mean_squared_error(y_test, y_pred_rf)\n",
        "r2_rf = r2_score(y_test, y_pred_rf)\n",
        "\n",
        "print(f\"Random Forest - Mean Absolute Error (MAE): {mae_rf}\")\n",
        "print(f\"Random Forest - Mean Squared Error (MSE): {mse_rf}\")\n",
        "print(f\"Random Forest - R-squared: {r2_rf}\")\n",
        "\n",
        "# Extracting feature importances from the Random Forest model\n",
        "feature_importances_rf = pipeline_rf.named_steps['model'].feature_importances_\n",
        "\n",
        "# Printing feature importances\n",
        "for feature, importance in zip(engineered_features, feature_importances_rf):\n",
        "    print(f\"{feature}: {importance}\")\n",
        "\n"
      ],
      "metadata": {
        "colab": {
          "base_uri": "https://localhost:8080/"
        },
        "id": "zDqjrjPiRLsv",
        "outputId": "8d4208b3-22d7-4d43-99bd-1f73cda21e1f"
      },
      "execution_count": 22,
      "outputs": [
        {
          "output_type": "stream",
          "name": "stdout",
          "text": [
            "Random Forest - Mean Absolute Error (MAE): 6.473593125248617\n",
            "Random Forest - Mean Squared Error (MSE): 80.17501121054231\n",
            "Random Forest - R-squared: -0.08064628001689145\n",
            "latitude: 0.36602530442860776\n",
            "longitude: 0.3741350613385332\n",
            "day_of_week: 0.1239929896671644\n",
            "hour_of_day: 0.13173697449131658\n",
            "night: 0.0036253358970248163\n",
            "crash_during_open_street: 0.0004843341773532669\n"
          ]
        }
      ]
    },
    {
      "cell_type": "markdown",
      "source": [
        "# xgboost"
      ],
      "metadata": {
        "id": "rgZqLBPhRma8"
      }
    },
    {
      "cell_type": "code",
      "source": [
        "from xgboost import XGBRegressor\n",
        "\n",
        "pipeline_xgb = Pipeline([\n",
        "    ('preprocessor', preprocessor),\n",
        "    ('model', XGBRegressor(objective ='reg:squarederror', colsample_bytree = 0.3, learning_rate = 0.2,\n",
        "                max_depth = 10, alpha = 10, n_estimators = 100))\n",
        "])\n",
        "\n",
        "pipeline_xgb.fit(X_train, y_train_imputed)\n",
        "\n",
        "# Predict on the test set\n",
        "y_pred_xgb = pipeline_xgb.predict(X_test)\n",
        "\n",
        "# Evaluate the model\n",
        "mae_xgb = mean_absolute_error(y_test, y_pred_xgb)\n",
        "mse_xgb = mean_squared_error(y_test, y_pred_xgb)\n",
        "r2_xgb = r2_score(y_test, y_pred_xgb)\n",
        "\n",
        "print(f\"Random Forest - Mean Absolute Error (MAE): {mae_xgb}\")\n",
        "print(f\"Random Forest - Mean Squared Error (MSE): {mse_xgb}\")\n",
        "print(f\"Random Forest - R-squared: {r2_xgb}\")\n",
        "\n",
        "# Extracting feature importances from the Random Forest model\n",
        "feature_importances_xgb = pipeline_xgb.named_steps['model'].feature_importances_\n",
        "\n",
        "# Printing feature importances\n",
        "for feature, importance in zip(engineered_features, feature_importances_xgb):\n",
        "    print(f\"{feature}: {importance}\")\n"
      ],
      "metadata": {
        "colab": {
          "base_uri": "https://localhost:8080/"
        },
        "id": "SPSpQqHlRoPo",
        "outputId": "aedf89d9-5bab-4e60-9c1c-f3431119ba4e"
      },
      "execution_count": 33,
      "outputs": [
        {
          "output_type": "stream",
          "name": "stdout",
          "text": [
            "Random Forest - Mean Absolute Error (MAE): 6.406812694149578\n",
            "Random Forest - Mean Squared Error (MSE): 73.77083845348791\n",
            "Random Forest - R-squared: 0.005672952896247807\n",
            "latitude: 0.0692548006772995\n",
            "longitude: 0.06804479658603668\n",
            "day_of_week: 0.0113033102825284\n",
            "hour_of_day: 0.36752569675445557\n",
            "night: 0.43166598677635193\n",
            "crash_during_open_street: 0.0522054061293602\n"
          ]
        }
      ]
    },
    {
      "cell_type": "markdown",
      "source": [
        "# neural net"
      ],
      "metadata": {
        "id": "VKpspQ9SSbQX"
      }
    },
    {
      "cell_type": "code",
      "source": [
        "cont_names = ['latitude', 'longitude', 'day_of_week', 'hour_of_day', 'night', 'total_number_of_casualties']\n",
        "cat_names = ['crash_during_open_street']\n",
        "feats = cont_names + cat_names\n",
        "collisions_engineered_small = collisions_engineered[feats].copy()"
      ],
      "metadata": {
        "id": "DP2pdTnGUMKk"
      },
      "execution_count": 77,
      "outputs": []
    },
    {
      "cell_type": "code",
      "source": [
        "collisions_engineered_small.shape"
      ],
      "metadata": {
        "colab": {
          "base_uri": "https://localhost:8080/"
        },
        "id": "s8GTbhx2Utu0",
        "outputId": "ddb10dd6-e53a-48fa-f6cd-d1f2ed0c1f82"
      },
      "execution_count": 78,
      "outputs": [
        {
          "output_type": "execute_result",
          "data": {
            "text/plain": [
              "(98957, 7)"
            ]
          },
          "metadata": {},
          "execution_count": 78
        }
      ]
    },
    {
      "cell_type": "code",
      "source": [
        "collisions_engineered_small.dtypes"
      ],
      "metadata": {
        "colab": {
          "base_uri": "https://localhost:8080/"
        },
        "id": "GwUOXIFMV3UI",
        "outputId": "1949c61b-0a45-4353-f7ca-0e6bb120492f"
      },
      "execution_count": 79,
      "outputs": [
        {
          "output_type": "execute_result",
          "data": {
            "text/plain": [
              "latitude                       object\n",
              "longitude                      object\n",
              "day_of_week                     int64\n",
              "hour_of_day                     int64\n",
              "night                         float64\n",
              "total_number_of_casualties     object\n",
              "crash_during_open_street        int64\n",
              "dtype: object"
            ]
          },
          "metadata": {},
          "execution_count": 79
        }
      ]
    },
    {
      "cell_type": "code",
      "source": [
        "collisions_engineered_small['latitude'] = collisions_engineered_small['latitude'].astype(float)\n",
        "collisions_engineered_small['longitude'] = collisions_engineered_small['longitude'].astype(float)\n",
        "collisions_engineered_small['total_number_of_casualties'] = collisions_engineered_small['total_number_of_casualties'].astype(int)"
      ],
      "metadata": {
        "id": "h666iz2oV7OX"
      },
      "execution_count": 80,
      "outputs": []
    },
    {
      "cell_type": "code",
      "source": [
        "from fastai.tabular.all import *\n",
        "\n",
        "# Assuming 'df' is your DataFrame and it's already preprocessed\n",
        "\n",
        "df = collisions_engineered_small.copy()\n",
        "\n",
        "# Step 2 & 3: Prepare the data and create DataLoaders\n",
        "dls = TabularDataLoaders.from_df(df, path='.',procs=[Categorify, FillMissing, Normalize],\n",
        "                                 y_names=\"total_number_of_casualties\",\n",
        "                                 cont_names = ['latitude', 'longitude', 'day_of_week', 'hour_of_day', 'night'],\n",
        "                                 cat_names = ['crash_during_open_street'],\n",
        "                                 y_block=RegressionBlock(),\n",
        "                                 bs=64 # Batch size\n",
        "                                 ) # Split data for training and validation\n",
        "\n",
        "# Step 4: Define and Train the Model\n",
        "learn = tabular_learner(dls, layers=[200,100], metrics=[mse, accuracy]) # Customize layers as needed\n",
        "\n",
        "# Find an appropriate learning rate\n",
        "learn.lr_find()\n",
        "\n",
        "# Train the model\n",
        "learn.fit_one_cycle(5, 1e-2) # Number of epochs and learning rate\n"
      ],
      "metadata": {
        "colab": {
          "base_uri": "https://localhost:8080/",
          "height": 643
        },
        "id": "std2niczSczX",
        "outputId": "4aa50c3d-3c9e-49b7-941f-496c9e7de60f"
      },
      "execution_count": 82,
      "outputs": [
        {
          "output_type": "display_data",
          "data": {
            "text/plain": [
              "<IPython.core.display.HTML object>"
            ],
            "text/html": [
              "\n",
              "<style>\n",
              "    /* Turns off some styling */\n",
              "    progress {\n",
              "        /* gets rid of default border in Firefox and Opera. */\n",
              "        border: none;\n",
              "        /* Needs to be in here for Safari polyfill so background images work as expected. */\n",
              "        background-size: auto;\n",
              "    }\n",
              "    progress:not([value]), progress:not([value])::-webkit-progress-bar {\n",
              "        background: repeating-linear-gradient(45deg, #7e7e7e, #7e7e7e 10px, #5c5c5c 10px, #5c5c5c 20px);\n",
              "    }\n",
              "    .progress-bar-interrupted, .progress-bar-interrupted::-webkit-progress-bar {\n",
              "        background: #F44336;\n",
              "    }\n",
              "</style>\n"
            ]
          },
          "metadata": {}
        },
        {
          "output_type": "display_data",
          "data": {
            "text/plain": [
              "<IPython.core.display.HTML object>"
            ],
            "text/html": []
          },
          "metadata": {}
        },
        {
          "output_type": "display_data",
          "data": {
            "text/plain": [
              "<IPython.core.display.HTML object>"
            ],
            "text/html": [
              "\n",
              "<style>\n",
              "    /* Turns off some styling */\n",
              "    progress {\n",
              "        /* gets rid of default border in Firefox and Opera. */\n",
              "        border: none;\n",
              "        /* Needs to be in here for Safari polyfill so background images work as expected. */\n",
              "        background-size: auto;\n",
              "    }\n",
              "    progress:not([value]), progress:not([value])::-webkit-progress-bar {\n",
              "        background: repeating-linear-gradient(45deg, #7e7e7e, #7e7e7e 10px, #5c5c5c 10px, #5c5c5c 20px);\n",
              "    }\n",
              "    .progress-bar-interrupted, .progress-bar-interrupted::-webkit-progress-bar {\n",
              "        background: #F44336;\n",
              "    }\n",
              "</style>\n"
            ]
          },
          "metadata": {}
        },
        {
          "output_type": "display_data",
          "data": {
            "text/plain": [
              "<IPython.core.display.HTML object>"
            ],
            "text/html": [
              "<table border=\"1\" class=\"dataframe\">\n",
              "  <thead>\n",
              "    <tr style=\"text-align: left;\">\n",
              "      <th>epoch</th>\n",
              "      <th>train_loss</th>\n",
              "      <th>valid_loss</th>\n",
              "      <th>mse</th>\n",
              "      <th>accuracy</th>\n",
              "      <th>time</th>\n",
              "    </tr>\n",
              "  </thead>\n",
              "  <tbody>\n",
              "    <tr>\n",
              "      <td>0</td>\n",
              "      <td>69.060036</td>\n",
              "      <td>80.598129</td>\n",
              "      <td>80.598129</td>\n",
              "      <td>0.578900</td>\n",
              "      <td>00:15</td>\n",
              "    </tr>\n",
              "    <tr>\n",
              "      <td>1</td>\n",
              "      <td>69.658409</td>\n",
              "      <td>79.685448</td>\n",
              "      <td>79.685448</td>\n",
              "      <td>0.578900</td>\n",
              "      <td>00:16</td>\n",
              "    </tr>\n",
              "    <tr>\n",
              "      <td>2</td>\n",
              "      <td>67.711586</td>\n",
              "      <td>80.245911</td>\n",
              "      <td>80.245911</td>\n",
              "      <td>0.578900</td>\n",
              "      <td>00:15</td>\n",
              "    </tr>\n",
              "    <tr>\n",
              "      <td>3</td>\n",
              "      <td>71.960381</td>\n",
              "      <td>79.705696</td>\n",
              "      <td>79.705696</td>\n",
              "      <td>0.578900</td>\n",
              "      <td>00:15</td>\n",
              "    </tr>\n",
              "    <tr>\n",
              "      <td>4</td>\n",
              "      <td>68.345917</td>\n",
              "      <td>79.691238</td>\n",
              "      <td>79.691238</td>\n",
              "      <td>0.578900</td>\n",
              "      <td>00:15</td>\n",
              "    </tr>\n",
              "  </tbody>\n",
              "</table>"
            ]
          },
          "metadata": {}
        },
        {
          "output_type": "display_data",
          "data": {
            "text/plain": [
              "<Figure size 640x480 with 1 Axes>"
            ],
            "image/png": "[encoded data removed]"
          },
          "metadata": {}
        }
      ]
    },
    {
      "cell_type": "code",
      "source": [
        "dls.show_batch()\n"
      ],
      "metadata": {
        "colab": {
          "base_uri": "https://localhost:8080/",
          "height": 363
        },
        "id": "dvYeYsEsW8BR",
        "outputId": "b23f68b4-f53f-46a0-d0d0-f09747c01fa7"
      },
      "execution_count": 74,
      "outputs": [
        {
          "output_type": "display_data",
          "data": {
            "text/plain": [
              "<IPython.core.display.HTML object>"
            ],
            "text/html": [
              "<table border=\"1\" class=\"dataframe\">\n",
              "  <thead>\n",
              "    <tr style=\"text-align: right;\">\n",
              "      <th></th>\n",
              "      <th>crash_during_open_street</th>\n",
              "      <th>latitude</th>\n",
              "      <th>longitude</th>\n",
              "      <th>day_of_week</th>\n",
              "      <th>hour_of_day</th>\n",
              "      <th>night</th>\n",
              "    </tr>\n",
              "  </thead>\n",
              "  <tbody>\n",
              "    <tr>\n",
              "      <th>0</th>\n",
              "      <td>0</td>\n",
              "      <td>40.796719</td>\n",
              "      <td>-73.976181</td>\n",
              "      <td>6.000000e+00</td>\n",
              "      <td>7.0</td>\n",
              "      <td>-4.953139e-09</td>\n",
              "    </tr>\n",
              "    <tr>\n",
              "      <th>1</th>\n",
              "      <td>0</td>\n",
              "      <td>40.681297</td>\n",
              "      <td>-73.934723</td>\n",
              "      <td>3.000000e+00</td>\n",
              "      <td>13.0</td>\n",
              "      <td>-4.953139e-09</td>\n",
              "    </tr>\n",
              "    <tr>\n",
              "      <th>2</th>\n",
              "      <td>0</td>\n",
              "      <td>40.868248</td>\n",
              "      <td>-73.916145</td>\n",
              "      <td>-6.297906e-08</td>\n",
              "      <td>22.0</td>\n",
              "      <td>-4.953139e-09</td>\n",
              "    </tr>\n",
              "    <tr>\n",
              "      <th>3</th>\n",
              "      <td>0</td>\n",
              "      <td>40.898159</td>\n",
              "      <td>-73.874817</td>\n",
              "      <td>4.000000e+00</td>\n",
              "      <td>19.0</td>\n",
              "      <td>-4.953139e-09</td>\n",
              "    </tr>\n",
              "    <tr>\n",
              "      <th>4</th>\n",
              "      <td>0</td>\n",
              "      <td>40.614269</td>\n",
              "      <td>-74.156654</td>\n",
              "      <td>4.000000e+00</td>\n",
              "      <td>13.0</td>\n",
              "      <td>-4.953139e-09</td>\n",
              "    </tr>\n",
              "    <tr>\n",
              "      <th>5</th>\n",
              "      <td>0</td>\n",
              "      <td>40.700592</td>\n",
              "      <td>-73.854568</td>\n",
              "      <td>3.000000e+00</td>\n",
              "      <td>16.0</td>\n",
              "      <td>-4.953139e-09</td>\n",
              "    </tr>\n",
              "    <tr>\n",
              "      <th>6</th>\n",
              "      <td>0</td>\n",
              "      <td>40.856308</td>\n",
              "      <td>-73.859901</td>\n",
              "      <td>6.000000e+00</td>\n",
              "      <td>9.0</td>\n",
              "      <td>-4.953139e-09</td>\n",
              "    </tr>\n",
              "    <tr>\n",
              "      <th>7</th>\n",
              "      <td>0</td>\n",
              "      <td>40.792931</td>\n",
              "      <td>-73.947906</td>\n",
              "      <td>-6.297906e-08</td>\n",
              "      <td>22.0</td>\n",
              "      <td>-4.953139e-09</td>\n",
              "    </tr>\n",
              "    <tr>\n",
              "      <th>8</th>\n",
              "      <td>0</td>\n",
              "      <td>40.646988</td>\n",
              "      <td>-73.969315</td>\n",
              "      <td>3.000000e+00</td>\n",
              "      <td>12.0</td>\n",
              "      <td>-4.953139e-09</td>\n",
              "    </tr>\n",
              "    <tr>\n",
              "      <th>9</th>\n",
              "      <td>0</td>\n",
              "      <td>40.664097</td>\n",
              "      <td>-73.909317</td>\n",
              "      <td>4.000000e+00</td>\n",
              "      <td>15.0</td>\n",
              "      <td>-4.953139e-09</td>\n",
              "    </tr>\n",
              "  </tbody>\n",
              "</table>"
            ]
          },
          "metadata": {}
        }
      ]
    },
    {
      "cell_type": "markdown",
      "source": [
        "# next steps\n",
        "Feature Engineering:\n",
        "\n",
        "* Interaction Terms: Create interaction terms between features that might have\n",
        "combined effects on the target variable, such as combining latitude and longitude or is_open_street with day_of_week or hour_of_day.\n",
        "\n",
        "* Polynomial Features: For numerical features like latitude and longitude, consider generating polynomial features to capture more complex spatial relationships.\n",
        "\n",
        "* Time Features: Even though hour_of_day had no importance, you might want to revisit how time is represented or interacted with other features. Binning hours into time of day (morning, afternoon, evening) might capture behavioral patterns better.\n"
      ],
      "metadata": {
        "id": "s6o0AlVlvSme"
      }
    },
    {
      "cell_type": "code",
      "source": [
        "from sklearn.preprocessing import PolynomialFeatures, KBinsDiscretizer\n",
        "\n",
        "# Feature Engineering: Interaction Terms and Polynomial Features\n",
        "\n",
        "# 1. Polynomial Features for latitude and longitude to capture spatial relationships\n",
        "poly = PolynomialFeatures(degree=2, include_bias=False)\n",
        "lat_long_poly = poly.fit_transform(collisions[['latitude', 'longitude']])\n",
        "# Create a DataFrame for the polynomial features with appropriate column names\n",
        "lat_long_poly_df = pd.DataFrame(lat_long_poly, columns=poly.get_feature_names_out(['latitude', 'longitude']))\n",
        "lat_long_poly_df = lat_long_poly_df.drop('latitude', axis=1)\n",
        "lat_long_poly_df = lat_long_poly_df.drop('longitude', axis=1)\n",
        "\n",
        "# 2. Binning 'hour_of_day' into categories (morning, afternoon, evening, night)\n",
        "# Define bin edges and labels\n",
        "bins = [0, 6, 12, 18, 24]\n",
        "labels = ['night', 'morning', 'afternoon', 'evening']\n",
        "kbins = KBinsDiscretizer(n_bins=4, encode='onehot-dense', strategy='uniform')\n",
        "hour_of_day_binned = kbins.fit_transform(collisions[['hour_of_day']])\n",
        "# Create a DataFrame for the binned hours with appropriate column names\n",
        "hour_of_day_binned_df = pd.DataFrame(hour_of_day_binned, columns=labels)\n",
        "\n",
        "# 3. Interaction Terms: For simplicity, let's create an interaction term between 'is_open_street' and 'day_of_week'\n",
        "collisions['crash_open_street_day_interaction'] = collisions['crash_during_open_street'] * collisions['day_of_week']\n",
        "\n",
        "# Combine all engineered features with the original DataFrame (for simplicity, assuming original df is ready for these operations)\n",
        "#df_engineered = df.join([lat_long_poly_df, hour_of_day_binned_df])\n",
        "# Now, combining the DataFrame again with the corrected polynomial features DataFrame\n",
        "collisions_engineered = pd.concat([collisions, lat_long_poly_df, hour_of_day_binned_df], axis=1)\n",
        "\n",
        "# Update feature list for the model\n",
        "# Make sure to exclude any original features replaced or not needed after engineering\n",
        "engineered_features = features + ['crash_open_street_day_interaction','night','afternoon', 'evening', 'latitude longitude', 'latitude^2', 'longitude^2']"
      ],
      "metadata": {
        "id": "gtti9FbUwUw1"
      },
      "execution_count": 196,
      "outputs": []
    },
    {
      "cell_type": "code",
      "source": [
        "collisions_engineered[engineered_features].columns"
      ],
      "metadata": {
        "colab": {
          "base_uri": "https://localhost:8080/"
        },
        "id": "NfEI9IWZyk52",
        "outputId": "17bbd465-a6ff-4285-ac56-96d0d8dfb235"
      },
      "execution_count": 205,
      "outputs": [
        {
          "output_type": "execute_result",
          "data": {
            "text/plain": [
              "Index(['latitude', 'longitude', 'is_open_street', 'crash_during_open_street',\n",
              "       'day_of_week', 'hour_of_day', 'month',\n",
              "       'crash_open_street_day_interaction', 'night', 'afternoon', 'evening',\n",
              "       'latitude longitude', 'latitude^2', 'longitude^2'],\n",
              "      dtype='object')"
            ]
          },
          "metadata": {},
          "execution_count": 205
        }
      ]
    },
    {
      "cell_type": "code",
      "source": [
        "def list_duplicates(seq):\n",
        "  seen = set()\n",
        "  seen_add = seen.add\n",
        "  # adds all elements it doesn't know yet to seen and all other to seen_twice\n",
        "  seen_twice = set( x for x in seq if x in seen or seen_add(x) )\n",
        "  # turn the set into a list (as requested)\n",
        "  return list( seen_twice )\n",
        "\n",
        "list_duplicates(collisions_engineered[engineered_features].columns)\n",
        "#collisions_engineered = collisions_engineered.drop(collisions_engineered.columns[69], axis=1)\n",
        "#collisions_engineered = collisions_engineered.drop(collisions_engineered.columns[70], axis=1)"
      ],
      "metadata": {
        "colab": {
          "base_uri": "https://localhost:8080/"
        },
        "id": "ciav-RFXy0Ty",
        "outputId": "8c636b85-aa59-4f81-ff87-c56429745599"
      },
      "execution_count": 206,
      "outputs": [
        {
          "output_type": "execute_result",
          "data": {
            "text/plain": [
              "[]"
            ]
          },
          "metadata": {},
          "execution_count": 206
        }
      ]
    },
    {
      "cell_type": "code",
      "source": [
        "# Update the model pipeline to include these new features\n",
        "# Note: This example assumes the preprocessor and model setup remains the same and focuses on feature engineering\n",
        "pipeline = Pipeline([\n",
        "    ('preprocessor', preprocessor),  # Assuming preprocessor is already defined and appropriate\n",
        "    ('model', GradientBoostingRegressor(random_state=42))\n",
        "])\n",
        "\n",
        "# You need to split your engineered DataFrame into training and testing sets again\n",
        "X_train_eng, X_test_eng, y_train_eng, y_test_eng = train_test_split(collisions_engineered[engineered_features], collisions_engineered['total_number_of_casualties'], test_size=0.2, random_state=42)\n",
        "\n",
        "# Fit the pipeline to the data with the engineered features\n",
        "pipeline.fit(X_train_eng, y_train_eng)\n",
        "\n",
        "# Note: This code assumes df is your DataFrame and that it's prepared for these operations.\n",
        "# Adjustments might be needed based on your actual DataFrame structure and preprocessing"
      ],
      "metadata": {
        "colab": {
          "base_uri": "https://localhost:8080/",
          "height": 192
        },
        "id": "1m4-NEVmwTCg",
        "outputId": "a27791f0-3d84-4fdf-dd15-80ae2fd8efbb"
      },
      "execution_count": 208,
      "outputs": [
        {
          "output_type": "execute_result",
          "data": {
            "text/plain": [
              "Pipeline(steps=[('preprocessor',\n",
              "                 ColumnTransformer(transformers=[('num', SimpleImputer(),\n",
              "                                                  ['latitude', 'longitude',\n",
              "                                                   'day_of_week', 'hour_of_day',\n",
              "                                                   'month']),\n",
              "                                                 ('cat',\n",
              "                                                  SimpleImputer(strategy='most_frequent'),\n",
              "                                                  ['is_open_street',\n",
              "                                                   'crash_during_open_street'])])),\n",
              "                ('model', GradientBoostingRegressor(random_state=42))])"
            ],
            "text/html": [
              "<style>#sk-container-id-7 {color: black;background-color: white;}#sk-container-id-7 pre{padding: 0;}#sk-container-id-7 div.sk-toggleable {background-color: white;}#sk-container-id-7 label.sk-toggleable__label {cursor: pointer;display: block;width: 100%;margin-bottom: 0;padding: 0.3em;box-sizing: border-box;text-align: center;}#sk-container-id-7 label.sk-toggleable__label-arrow:before {content: \"▸\";float: left;margin-right: 0.25em;color: #696969;}#sk-container-id-7 label.sk-toggleable__label-arrow:hover:before {color: black;}#sk-container-id-7 div.sk-estimator:hover label.sk-toggleable__label-arrow:before {color: black;}#sk-container-id-7 div.sk-toggleable__content {max-height: 0;max-width: 0;overflow: hidden;text-align: left;background-color: #f0f8ff;}#sk-container-id-7 div.sk-toggleable__content pre {margin: 0.2em;color: black;border-radius: 0.25em;background-color: #f0f8ff;}#sk-container-id-7 input.sk-toggleable__control:checked~div.sk-toggleable__content {max-height: 200px;max-width: 100%;overflow: auto;}#sk-container-id-7 input.sk-toggleable__control:checked~label.sk-toggleable__label-arrow:before {content: \"▾\";}#sk-container-id-7 div.sk-estimator input.sk-toggleable__control:checked~label.sk-toggleable__label {background-color: #d4ebff;}#sk-container-id-7 div.sk-label input.sk-toggleable__control:checked~label.sk-toggleable__label {background-color: #d4ebff;}#sk-container-id-7 input.sk-hidden--visually {border: 0;clip: rect(1px 1px 1px 1px);clip: rect(1px, 1px, 1px, 1px);height: 1px;margin: -1px;overflow: hidden;padding: 0;position: absolute;width: 1px;}#sk-container-id-7 div.sk-estimator {font-family: monospace;background-color: #f0f8ff;border: 1px dotted black;border-radius: 0.25em;box-sizing: border-box;margin-bottom: 0.5em;}#sk-container-id-7 div.sk-estimator:hover {background-color: #d4ebff;}#sk-container-id-7 div.sk-parallel-item::after {content: \"\";width: 100%;border-bottom: 1px solid gray;flex-grow: 1;}#sk-container-id-7 div.sk-label:hover label.sk-toggleable__label {background-color: #d4ebff;}#sk-container-id-7 div.sk-serial::before {content: \"\";position: absolute;border-left: 1px solid gray;box-sizing: border-box;top: 0;bottom: 0;left: 50%;z-index: 0;}#sk-container-id-7 div.sk-serial {display: flex;flex-direction: column;align-items: center;background-color: white;padding-right: 0.2em;padding-left: 0.2em;position: relative;}#sk-container-id-7 div.sk-item {position: relative;z-index: 1;}#sk-container-id-7 div.sk-parallel {display: flex;align-items: stretch;justify-content: center;background-color: white;position: relative;}#sk-container-id-7 div.sk-item::before, #sk-container-id-7 div.sk-parallel-item::before {content: \"\";position: absolute;border-left: 1px solid gray;box-sizing: border-box;top: 0;bottom: 0;left: 50%;z-index: -1;}#sk-container-id-7 div.sk-parallel-item {display: flex;flex-direction: column;z-index: 1;position: relative;background-color: white;}#sk-container-id-7 div.sk-parallel-item:first-child::after {align-self: flex-end;width: 50%;}#sk-container-id-7 div.sk-parallel-item:last-child::after {align-self: flex-start;width: 50%;}#sk-container-id-7 div.sk-parallel-item:only-child::after {width: 0;}#sk-container-id-7 div.sk-dashed-wrapped {border: 1px dashed gray;margin: 0 0.4em 0.5em 0.4em;box-sizing: border-box;padding-bottom: 0.4em;background-color: white;}#sk-container-id-7 div.sk-label label {font-family: monospace;font-weight: bold;display: inline-block;line-height: 1.2em;}#sk-container-id-7 div.sk-label-container {text-align: center;}#sk-container-id-7 div.sk-container {/* jupyter's `normalize.less` sets `[hidden] { display: none; }` but bootstrap.min.css set `[hidden] { display: none !important; }` so we also need the `!important` here to be able to override the default hidden behavior on the sphinx rendered scikit-learn.org. See: https://github.com/scikit-learn/scikit-learn/issues/21755 */display: inline-block !important;position: relative;}#sk-container-id-7 div.sk-text-repr-fallback {display: none;}</style><div id=\"sk-container-id-7\" class=\"sk-top-container\"><div class=\"sk-text-repr-fallback\"><pre>Pipeline(steps=[(&#x27;preprocessor&#x27;,\n",
              "                 ColumnTransformer(transformers=[(&#x27;num&#x27;, SimpleImputer(),\n",
              "                                                  [&#x27;latitude&#x27;, &#x27;longitude&#x27;,\n",
              "                                                   &#x27;day_of_week&#x27;, &#x27;hour_of_day&#x27;,\n",
              "                                                   &#x27;month&#x27;]),\n",
              "                                                 (&#x27;cat&#x27;,\n",
              "                                                  SimpleImputer(strategy=&#x27;most_frequent&#x27;),\n",
              "                                                  [&#x27;is_open_street&#x27;,\n",
              "                                                   &#x27;crash_during_open_street&#x27;])])),\n",
              "                (&#x27;model&#x27;, GradientBoostingRegressor(random_state=42))])</pre><b>In a Jupyter environment, please rerun this cell to show the HTML representation or trust the notebook. <br />On GitHub, the HTML representation is unable to render, please try loading this page with nbviewer.org.</b></div><div class=\"sk-container\" hidden><div class=\"sk-item sk-dashed-wrapped\"><div class=\"sk-label-container\"><div class=\"sk-label sk-toggleable\"><input class=\"sk-toggleable__control sk-hidden--visually\" id=\"sk-estimator-id-43\" type=\"checkbox\" ><label for=\"sk-estimator-id-43\" class=\"sk-toggleable__label sk-toggleable__label-arrow\">Pipeline</label><div class=\"sk-toggleable__content\"><pre>Pipeline(steps=[(&#x27;preprocessor&#x27;,\n",
              "                 ColumnTransformer(transformers=[(&#x27;num&#x27;, SimpleImputer(),\n",
              "                                                  [&#x27;latitude&#x27;, &#x27;longitude&#x27;,\n",
              "                                                   &#x27;day_of_week&#x27;, &#x27;hour_of_day&#x27;,\n",
              "                                                   &#x27;month&#x27;]),\n",
              "                                                 (&#x27;cat&#x27;,\n",
              "                                                  SimpleImputer(strategy=&#x27;most_frequent&#x27;),\n",
              "                                                  [&#x27;is_open_street&#x27;,\n",
              "                                                   &#x27;crash_during_open_street&#x27;])])),\n",
              "                (&#x27;model&#x27;, GradientBoostingRegressor(random_state=42))])</pre></div></div></div><div class=\"sk-serial\"><div class=\"sk-item sk-dashed-wrapped\"><div class=\"sk-label-container\"><div class=\"sk-label sk-toggleable\"><input class=\"sk-toggleable__control sk-hidden--visually\" id=\"sk-estimator-id-44\" type=\"checkbox\" ><label for=\"sk-estimator-id-44\" class=\"sk-toggleable__label sk-toggleable__label-arrow\">preprocessor: ColumnTransformer</label><div class=\"sk-toggleable__content\"><pre>ColumnTransformer(transformers=[(&#x27;num&#x27;, SimpleImputer(),\n",
              "                                 [&#x27;latitude&#x27;, &#x27;longitude&#x27;, &#x27;day_of_week&#x27;,\n",
              "                                  &#x27;hour_of_day&#x27;, &#x27;month&#x27;]),\n",
              "                                (&#x27;cat&#x27;, SimpleImputer(strategy=&#x27;most_frequent&#x27;),\n",
              "                                 [&#x27;is_open_street&#x27;,\n",
              "                                  &#x27;crash_during_open_street&#x27;])])</pre></div></div></div><div class=\"sk-parallel\"><div class=\"sk-parallel-item\"><div class=\"sk-item\"><div class=\"sk-label-container\"><div class=\"sk-label sk-toggleable\"><input class=\"sk-toggleable__control sk-hidden--visually\" id=\"sk-estimator-id-45\" type=\"checkbox\" ><label for=\"sk-estimator-id-45\" class=\"sk-toggleable__label sk-toggleable__label-arrow\">num</label><div class=\"sk-toggleable__content\"><pre>[&#x27;latitude&#x27;, &#x27;longitude&#x27;, &#x27;day_of_week&#x27;, &#x27;hour_of_day&#x27;, &#x27;month&#x27;]</pre></div></div></div><div class=\"sk-serial\"><div class=\"sk-item\"><div class=\"sk-estimator sk-toggleable\"><input class=\"sk-toggleable__control sk-hidden--visually\" id=\"sk-estimator-id-46\" type=\"checkbox\" ><label for=\"sk-estimator-id-46\" class=\"sk-toggleable__label sk-toggleable__label-arrow\">SimpleImputer</label><div class=\"sk-toggleable__content\"><pre>SimpleImputer()</pre></div></div></div></div></div></div><div class=\"sk-parallel-item\"><div class=\"sk-item\"><div class=\"sk-label-container\"><div class=\"sk-label sk-toggleable\"><input class=\"sk-toggleable__control sk-hidden--visually\" id=\"sk-estimator-id-47\" type=\"checkbox\" ><label for=\"sk-estimator-id-47\" class=\"sk-toggleable__label sk-toggleable__label-arrow\">cat</label><div class=\"sk-toggleable__content\"><pre>[&#x27;is_open_street&#x27;, &#x27;crash_during_open_street&#x27;]</pre></div></div></div><div class=\"sk-serial\"><div class=\"sk-item\"><div class=\"sk-estimator sk-toggleable\"><input class=\"sk-toggleable__control sk-hidden--visually\" id=\"sk-estimator-id-48\" type=\"checkbox\" ><label for=\"sk-estimator-id-48\" class=\"sk-toggleable__label sk-toggleable__label-arrow\">SimpleImputer</label><div class=\"sk-toggleable__content\"><pre>SimpleImputer(strategy=&#x27;most_frequent&#x27;)</pre></div></div></div></div></div></div></div></div><div class=\"sk-item\"><div class=\"sk-estimator sk-toggleable\"><input class=\"sk-toggleable__control sk-hidden--visually\" id=\"sk-estimator-id-49\" type=\"checkbox\" ><label for=\"sk-estimator-id-49\" class=\"sk-toggleable__label sk-toggleable__label-arrow\">GradientBoostingRegressor</label><div class=\"sk-toggleable__content\"><pre>GradientBoostingRegressor(random_state=42)</pre></div></div></div></div></div></div></div>"
            ]
          },
          "metadata": {},
          "execution_count": 208
        }
      ]
    },
    {
      "cell_type": "code",
      "source": [
        "# Predict on the test set\n",
        "y_pred_eng = pipeline.predict(X_test_eng)\n",
        "\n",
        "# Evaluate the model\n",
        "mae_eng = mean_absolute_error(y_test_eng, y_pred_eng)\n",
        "mse_eng = mean_squared_error(y_test_eng, y_pred_eng)\n",
        "r2_eng = r2_score(y_test_eng, y_pred_eng)\n",
        "\n",
        "print(f\"Mean Absolute Error (MAE): {mae_eng} \")\n",
        "print(f\"Mean Squared Error (MSE): {mse_eng}\")\n",
        "print(f\"R-squared: {r2_eng}\")"
      ],
      "metadata": {
        "colab": {
          "base_uri": "https://localhost:8080/"
        },
        "id": "_mY4Ebm02pKj",
        "outputId": "cf416b56-5ebe-4c33-8905-87f9ee9bbba2"
      },
      "execution_count": 210,
      "outputs": [
        {
          "output_type": "stream",
          "name": "stdout",
          "text": [
            "Mean Absolute Error (MAE): 6.396311983908567 6.396311983908567 \n",
            "Mean Squared Error (MSE): 73.30298516044543\n",
            "R-squared: 0.011978956638390437\n"
          ]
        }
      ]
    },
    {
      "cell_type": "code",
      "source": [
        "del features"
      ],
      "metadata": {
        "id": "oCS0pBP16xVR"
      },
      "execution_count": 185,
      "outputs": []
    },
    {
      "cell_type": "code",
      "source": [
        "# Assuming `engineered_features` correctly lists all the features used in the model training\n",
        "engineered_features = ['latitude', 'longitude', 'is_open_street', 'crash_during_open_street',\n",
        "                       'day_of_week', 'hour_of_day', 'month', 'open_street_day_interaction',\n",
        "                       'night', 'morning', 'afternoon', 'evening',\n",
        "                       'latitude*longitude', 'latitude^2', 'longitude^2']\n",
        "\n",
        "# Extracting feature importances from the trained model\n",
        "feature_importances = pipeline.named_steps['model'].feature_importances_\n",
        "\n",
        "# Correctly printing feature names with their importances\n",
        "for feature, importance in zip(engineered_features, feature_importances):\n",
        "    print(f\"{feature}: {importance}\")\n"
      ],
      "metadata": {
        "colab": {
          "base_uri": "https://localhost:8080/"
        },
        "id": "8iRlazf7EJZp",
        "outputId": "526f2945-ea9c-4f87-e4bc-467eeb59df66"
      },
      "execution_count": 188,
      "outputs": [
        {
          "output_type": "stream",
          "name": "stdout",
          "text": [
            "latitude: 0.32121846797755055\n",
            "longitude: 0.3138040527985561\n",
            "is_open_street: 0.03181761998111131\n",
            "crash_during_open_street: 0.2574470338105909\n",
            "day_of_week: 0.07349205417398845\n",
            "hour_of_day: 0.0\n",
            "month: 0.0022207712582025282\n"
          ]
        }
      ]
    },
    {
      "cell_type": "code",
      "source": [
        "# Assuming 'pipeline' is your trained Pipeline object\n",
        "# Assuming the transformation logic is encapsulated within the pipeline\n",
        "\n",
        "# If you have a ColumnTransformer in your pipeline, you could extract transformed feature names:\n",
        "# This is conceptual and might need adjustment based on your exact pipeline structure\n",
        "if 'preprocessor' in pipeline.named_steps:\n",
        "    transformers = pipeline.named_steps['preprocessor'].transformers_\n",
        "    # This part needs customization based on your actual pipeline and transformations\n",
        "\n",
        "# Direct approach to re-align:\n",
        "# Manually ensure that 'engineered_features' includes ALL features passed to the model after preprocessing\n",
        "# including those generated by PolynomialFeatures and any binning.\n",
        "\n",
        "# Print feature importances correctly aligned with the actual features used in training\n",
        "for feature, importance in zip(engineered_features, feature_importances):\n",
        "    print(f\"{feature}: {importance}\")\n"
      ],
      "metadata": {
        "colab": {
          "base_uri": "https://localhost:8080/"
        },
        "id": "h0TO1-WXFHNE",
        "outputId": "a7bb2ba6-7849-4505-871f-74e66efb91af"
      },
      "execution_count": 190,
      "outputs": [
        {
          "output_type": "stream",
          "name": "stdout",
          "text": [
            "latitude: 0.32121846797755055\n",
            "longitude: 0.3138040527985561\n",
            "is_open_street: 0.03181761998111131\n",
            "crash_during_open_street: 0.2574470338105909\n",
            "day_of_week: 0.07349205417398845\n",
            "hour_of_day: 0.0\n",
            "month: 0.0022207712582025282\n"
          ]
        }
      ]
    },
    {
      "cell_type": "markdown",
      "source": [
        "## Spatial analysis?\n",
        "- a new feature: how close the crash was to an open street?"
      ],
      "metadata": {
        "id": "L84CCmldu09P"
      }
    },
    {
      "cell_type": "markdown",
      "source": [
        "## Predictions"
      ],
      "metadata": {
        "id": "Od3l3e9aqKkQ"
      }
    },
    {
      "cell_type": "code",
      "source": [
        "# Example: predict for a new observation\n",
        "new_data = [[latitude, longitude, is_open_street, crash_during_open_street, day_of_week, hour_of_day, month]]\n",
        "new_prediction = pipeline.predict(new_data)\n",
        "print(f\"Predicted number of casualties: {new_prediction[0]}\")"
      ],
      "metadata": {
        "id": "7zCobMs5qMO4"
      },
      "execution_count": null,
      "outputs": []
    },
    {
      "cell_type": "markdown",
      "source": [
        "# Deployment\n",
        "- Save pickle"
      ],
      "metadata": {
        "id": "CNbSyzQ1qORf"
      }
    }
  ]
}